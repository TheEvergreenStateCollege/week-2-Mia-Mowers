{
  "cells": [
    {
      "cell_type": "markdown",
      "metadata": {
        "nbgrader": {
          "grade": false,
          "grade_id": "intro",
          "locked": true,
          "schema_version": 2,
          "solution": false
        },
        "id": "u418Omu0lWC8"
      },
      "source": [
        "# Lab 3: Data Cleaning and Visualization\n",
        "\n",
        "In this lab you will be working on visualizing a dataset from the City of Berkeley containing data on calls to the Berkeley Police Department. Information about the dataset can be found [at this link](https://data.cityofberkeley.info/Public-Safety/Berkeley-PD-Calls-for-Service/k2nh-s5h5).\n",
        "\n",
        "Note: This lab will not work on older versions of Python; make sure to work on DataHub.\n",
        "\n",
        "**This assignment should be completed and submitted by 11:59 PM PDT on Tuesday, September 14th, 2021.**\n",
        "\n",
        "**Content Warning: This lab includes an analysis of crime in Berkeley. If you feel uncomfortable about the topic, please feel free to contact your GSI or the instructors.**"
      ]
    },
    {
      "cell_type": "markdown",
      "metadata": {
        "nbgrader": {
          "grade": false,
          "grade_id": "setup",
          "locked": true,
          "schema_version": 2,
          "solution": false
        },
        "id": "KlWWyn5_lWC9"
      },
      "source": [
        "## Setup\n",
        "\n",
        "Note that we configure a custom default figure size. Virtually every default aspect of matplotlib [can be customized](https://matplotlib.org/users/customizing.html)."
      ]
    },
    {
      "cell_type": "code",
      "execution_count": 61,
      "metadata": {
        "nbgrader": {
          "grade": false,
          "grade_id": "imports",
          "locked": true,
          "schema_version": 2,
          "solution": false
        },
        "id": "JvCfqXYVlWC9"
      },
      "outputs": [],
      "source": [
        "import pandas as pd\n",
        "import numpy as np\n",
        "import zipfile\n",
        "import matplotlib\n",
        "import matplotlib.pyplot as plt\n",
        "\n",
        "plt.rcParams['figure.figsize'] = (12, 9)"
      ]
    },
    {
      "cell_type": "markdown",
      "metadata": {
        "nbgrader": {
          "grade": false,
          "grade_id": "part1",
          "locked": true,
          "schema_version": 2,
          "solution": false
        },
        "id": "m7tqhvcOlWC-"
      },
      "source": [
        "## Part 1: Cleaning and Exploring the Data\n",
        "\n",
        "To retrieve the dataset, we will use the `ds100_utils.fetch_and_cache` utility."
      ]
    },
    {
      "cell_type": "code",
      "execution_count": 142,
      "metadata": {
        "jupyter": {
          "outputs_hidden": false
        },
        "id": "FukPdL8WlWC-",
        "outputId": "a2a0126a-8027-4fe7-841a-a927ad9e53ec",
        "colab": {
          "base_uri": "https://localhost:8080/"
        }
      },
      "outputs": [
        {
          "output_type": "stream",
          "name": "stdout",
          "text": [
            "Using cached version downloaded at Tue Apr  5 17:43:38 2022\n",
            "Located at data/lab04_data_fa20.zip\n"
          ]
        }
      ],
      "source": [
        "import requests\n",
        "from pathlib import Path\n",
        "\n",
        "def fetch_and_cache(data_url, file, data_dir=\"data\", force=False):\n",
        "    \"\"\"\n",
        "    Download and cache a url and return the file object.\n",
        "    \n",
        "    data_url: the web address to download\n",
        "    file: the file in which to save the results.\n",
        "    data_dir: (default=\"data\") the location to save the data\n",
        "    force: if true the file is always re-downloaded \n",
        "    \n",
        "    return: The pathlib.Path to the file.\n",
        "    \"\"\"\n",
        "    data_dir = Path(data_dir)\n",
        "    data_dir.mkdir(exist_ok=True)\n",
        "    file_path = data_dir/Path(file)\n",
        "    if force and file_path.exists():\n",
        "        file_path.unlink()\n",
        "    if force or not file_path.exists():\n",
        "        print('Downloading...', end=' ')\n",
        "        resp = requests.get(data_url)\n",
        "        with file_path.open('wb') as f:\n",
        "            f.write(resp.content)\n",
        "        print('Done!')\n",
        "    else:\n",
        "        import time \n",
        "        created = time.ctime(file_path.stat().st_ctime)\n",
        "        print(\"Using cached version downloaded at\", created)\n",
        "    return file_path\n",
        "\n",
        "data_dir = 'data'\n",
        "data_url = 'http://www.ds100.org/fa20/resources/assets/datasets/lab04_data_fa20.zip'\n",
        "file_name = 'lab04_data_fa20.zip'\n",
        "\n",
        "dest_path = fetch_and_cache(data_url=data_url, file=file_name, data_dir=data_dir)\n",
        "print(f'Located at {dest_path}')"
      ]
    },
    {
      "cell_type": "markdown",
      "metadata": {
        "nbgrader": {
          "grade": false,
          "grade_id": "unzip-data-1",
          "locked": true,
          "schema_version": 2,
          "solution": false
        },
        "id": "aSOK8Jk8lWC-"
      },
      "source": [
        "We will now directly unzip the ZIP archive and start working with the uncompressed files.\n",
        "\n",
        "Note: There is no single right answer regarding whether to work with compressed files in their compressed state or to uncompress them on disk permanently. If you for example need to work with multiple tools on the same files, or write many notebooks to analyze them, and they are not too large, it may be more convenient to uncompress them once.  But you may also have situations where you find it preferable to work with the compressed data directly.  \n",
        "\n",
        "Python gives you tools for both approaches, and you should know how to perform both tasks in order to choose the one that best suits the problem at hand.\n",
        "\n",
        "---\n",
        "\n",
        "Run the cell below to extract the zip file into the data directory."
      ]
    },
    {
      "cell_type": "code",
      "execution_count": 63,
      "metadata": {
        "id": "VOBMP92JlWC-"
      },
      "outputs": [],
      "source": [
        "my_zip = zipfile.ZipFile(dest_path, 'r')\n",
        "my_zip.extractall(data_dir)"
      ]
    },
    {
      "cell_type": "markdown",
      "metadata": {
        "nbgrader": {
          "grade": false,
          "grade_id": "q0",
          "locked": true,
          "schema_version": 2,
          "solution": false
        },
        "id": "xdLhClOolWC-"
      },
      "source": [
        "Now, we'll use a method of the `Pathlib.Path` class called `glob` to list all files in the `data` directory. You will find useful information in pathlib [documentation](https://docs.python.org/3/library/pathlib.html).\n",
        "\n",
        "Below, we use pathlib's `glob` method to store the list of all files' names from the `data_dir` directory in the variable `file_names`. These names should be strings that contain only the file name (e.g. `dummy.txt` not `data/dummy.txt`). The asterisk (*) character is used with the `glob` method to match any string."
      ]
    },
    {
      "cell_type": "code",
      "execution_count": 64,
      "metadata": {
        "jupyter": {
          "outputs_hidden": false
        },
        "id": "K3eWjmy0lWC_",
        "outputId": "efbd613e-8065-4de6-d779-82fea20eff10",
        "colab": {
          "base_uri": "https://localhost:8080/"
        }
      },
      "outputs": [
        {
          "output_type": "execute_result",
          "data": {
            "text/plain": [
              "['Berkeley_PD_-_Calls_for_Service.csv',\n",
              " 'hello_world.py',\n",
              " 'do_not_readme.md',\n",
              " 'lab04_data_fa20.zip',\n",
              " 'dummy.txt',\n",
              " 'ben_kurtovic.py']"
            ]
          },
          "metadata": {},
          "execution_count": 64
        }
      ],
      "source": [
        "from pathlib import Path\n",
        "data_dir_path = Path('data') # creates a Path object that points to the data directory\n",
        "file_names = [x.name for x in data_dir_path.glob('*') if x.is_file()]\n",
        "file_names"
      ]
    },
    {
      "cell_type": "markdown",
      "metadata": {
        "nbgrader": {
          "grade": false,
          "grade_id": "explore-0",
          "locked": true,
          "schema_version": 2,
          "solution": false
        },
        "id": "k8-MoMVSlWC_"
      },
      "source": [
        "Let's now load the CSV file we have into a `pandas.DataFrame` object."
      ]
    },
    {
      "cell_type": "code",
      "execution_count": 65,
      "metadata": {
        "jupyter": {
          "outputs_hidden": false
        },
        "id": "axYjMP5zlWC_",
        "outputId": "4180d82b-d6be-4255-afc7-7033c785001b",
        "colab": {
          "base_uri": "https://localhost:8080/",
          "height": 250
        }
      },
      "outputs": [
        {
          "output_type": "execute_result",
          "data": {
            "text/plain": [
              "     CASENO                   OFFENSE                 EVENTDT EVENTTM  \\\n",
              "0  18022300               DISTURBANCE  04/18/2018 12:00:00 AM   22:17   \n",
              "1  18026683  THEFT MISD. (UNDER $950)  05/09/2018 12:00:00 AM   21:25   \n",
              "2  18038550  THEFT MISD. (UNDER $950)  05/18/2018 12:00:00 AM   20:00   \n",
              "3  18014810             BURGLARY AUTO  03/13/2018 12:00:00 AM   08:50   \n",
              "4  18018643           ALCOHOL OFFENSE  03/31/2018 12:00:00 AM   13:29   \n",
              "\n",
              "               CVLEGEND  CVDOW                InDbDate  \\\n",
              "0    DISORDERLY CONDUCT      3  09/06/2018 03:30:12 AM   \n",
              "1               LARCENY      3  09/06/2018 03:30:13 AM   \n",
              "2               LARCENY      5  09/06/2018 03:30:09 AM   \n",
              "3    BURGLARY - VEHICLE      2  09/06/2018 03:30:08 AM   \n",
              "4  LIQUOR LAW VIOLATION      6  09/06/2018 03:30:11 AM   \n",
              "\n",
              "                                      Block_Location  \\\n",
              "0  OREGON STREET &amp; MCGEE AVE\\nBerkeley, CA\\n(...   \n",
              "1  200 UNIVERSITY AVE\\nBerkeley, CA\\n(37.865511, ...   \n",
              "2  2200 MILVIA ST\\nBerkeley, CA\\n(37.868574, -122...   \n",
              "3  1200 SIXTH ST\\nBerkeley, CA\\n(37.881142, -122....   \n",
              "4  CENTER STREET &amp; SHATTUCK AVE\\nBerkeley, CA...   \n",
              "\n",
              "                        BLKADDR      City State  \n",
              "0     OREGON STREET & MCGEE AVE  Berkeley    CA  \n",
              "1            200 UNIVERSITY AVE  Berkeley    CA  \n",
              "2                2200 MILVIA ST  Berkeley    CA  \n",
              "3                 1200 SIXTH ST  Berkeley    CA  \n",
              "4  CENTER STREET & SHATTUCK AVE  Berkeley    CA  "
            ],
            "text/html": [
              "\n",
              "  <div id=\"df-2dc57a1a-0c20-4bfd-b25f-7cd54c850676\">\n",
              "    <div class=\"colab-df-container\">\n",
              "      <div>\n",
              "<style scoped>\n",
              "    .dataframe tbody tr th:only-of-type {\n",
              "        vertical-align: middle;\n",
              "    }\n",
              "\n",
              "    .dataframe tbody tr th {\n",
              "        vertical-align: top;\n",
              "    }\n",
              "\n",
              "    .dataframe thead th {\n",
              "        text-align: right;\n",
              "    }\n",
              "</style>\n",
              "<table border=\"1\" class=\"dataframe\">\n",
              "  <thead>\n",
              "    <tr style=\"text-align: right;\">\n",
              "      <th></th>\n",
              "      <th>CASENO</th>\n",
              "      <th>OFFENSE</th>\n",
              "      <th>EVENTDT</th>\n",
              "      <th>EVENTTM</th>\n",
              "      <th>CVLEGEND</th>\n",
              "      <th>CVDOW</th>\n",
              "      <th>InDbDate</th>\n",
              "      <th>Block_Location</th>\n",
              "      <th>BLKADDR</th>\n",
              "      <th>City</th>\n",
              "      <th>State</th>\n",
              "    </tr>\n",
              "  </thead>\n",
              "  <tbody>\n",
              "    <tr>\n",
              "      <th>0</th>\n",
              "      <td>18022300</td>\n",
              "      <td>DISTURBANCE</td>\n",
              "      <td>04/18/2018 12:00:00 AM</td>\n",
              "      <td>22:17</td>\n",
              "      <td>DISORDERLY CONDUCT</td>\n",
              "      <td>3</td>\n",
              "      <td>09/06/2018 03:30:12 AM</td>\n",
              "      <td>OREGON STREET &amp;amp; MCGEE AVE\\nBerkeley, CA\\n(...</td>\n",
              "      <td>OREGON STREET &amp; MCGEE AVE</td>\n",
              "      <td>Berkeley</td>\n",
              "      <td>CA</td>\n",
              "    </tr>\n",
              "    <tr>\n",
              "      <th>1</th>\n",
              "      <td>18026683</td>\n",
              "      <td>THEFT MISD. (UNDER $950)</td>\n",
              "      <td>05/09/2018 12:00:00 AM</td>\n",
              "      <td>21:25</td>\n",
              "      <td>LARCENY</td>\n",
              "      <td>3</td>\n",
              "      <td>09/06/2018 03:30:13 AM</td>\n",
              "      <td>200 UNIVERSITY AVE\\nBerkeley, CA\\n(37.865511, ...</td>\n",
              "      <td>200 UNIVERSITY AVE</td>\n",
              "      <td>Berkeley</td>\n",
              "      <td>CA</td>\n",
              "    </tr>\n",
              "    <tr>\n",
              "      <th>2</th>\n",
              "      <td>18038550</td>\n",
              "      <td>THEFT MISD. (UNDER $950)</td>\n",
              "      <td>05/18/2018 12:00:00 AM</td>\n",
              "      <td>20:00</td>\n",
              "      <td>LARCENY</td>\n",
              "      <td>5</td>\n",
              "      <td>09/06/2018 03:30:09 AM</td>\n",
              "      <td>2200 MILVIA ST\\nBerkeley, CA\\n(37.868574, -122...</td>\n",
              "      <td>2200 MILVIA ST</td>\n",
              "      <td>Berkeley</td>\n",
              "      <td>CA</td>\n",
              "    </tr>\n",
              "    <tr>\n",
              "      <th>3</th>\n",
              "      <td>18014810</td>\n",
              "      <td>BURGLARY AUTO</td>\n",
              "      <td>03/13/2018 12:00:00 AM</td>\n",
              "      <td>08:50</td>\n",
              "      <td>BURGLARY - VEHICLE</td>\n",
              "      <td>2</td>\n",
              "      <td>09/06/2018 03:30:08 AM</td>\n",
              "      <td>1200 SIXTH ST\\nBerkeley, CA\\n(37.881142, -122....</td>\n",
              "      <td>1200 SIXTH ST</td>\n",
              "      <td>Berkeley</td>\n",
              "      <td>CA</td>\n",
              "    </tr>\n",
              "    <tr>\n",
              "      <th>4</th>\n",
              "      <td>18018643</td>\n",
              "      <td>ALCOHOL OFFENSE</td>\n",
              "      <td>03/31/2018 12:00:00 AM</td>\n",
              "      <td>13:29</td>\n",
              "      <td>LIQUOR LAW VIOLATION</td>\n",
              "      <td>6</td>\n",
              "      <td>09/06/2018 03:30:11 AM</td>\n",
              "      <td>CENTER STREET &amp;amp; SHATTUCK AVE\\nBerkeley, CA...</td>\n",
              "      <td>CENTER STREET &amp; SHATTUCK AVE</td>\n",
              "      <td>Berkeley</td>\n",
              "      <td>CA</td>\n",
              "    </tr>\n",
              "  </tbody>\n",
              "</table>\n",
              "</div>\n",
              "      <button class=\"colab-df-convert\" onclick=\"convertToInteractive('df-2dc57a1a-0c20-4bfd-b25f-7cd54c850676')\"\n",
              "              title=\"Convert this dataframe to an interactive table.\"\n",
              "              style=\"display:none;\">\n",
              "        \n",
              "  <svg xmlns=\"http://www.w3.org/2000/svg\" height=\"24px\"viewBox=\"0 0 24 24\"\n",
              "       width=\"24px\">\n",
              "    <path d=\"M0 0h24v24H0V0z\" fill=\"none\"/>\n",
              "    <path d=\"M18.56 5.44l.94 2.06.94-2.06 2.06-.94-2.06-.94-.94-2.06-.94 2.06-2.06.94zm-11 1L8.5 8.5l.94-2.06 2.06-.94-2.06-.94L8.5 2.5l-.94 2.06-2.06.94zm10 10l.94 2.06.94-2.06 2.06-.94-2.06-.94-.94-2.06-.94 2.06-2.06.94z\"/><path d=\"M17.41 7.96l-1.37-1.37c-.4-.4-.92-.59-1.43-.59-.52 0-1.04.2-1.43.59L10.3 9.45l-7.72 7.72c-.78.78-.78 2.05 0 2.83L4 21.41c.39.39.9.59 1.41.59.51 0 1.02-.2 1.41-.59l7.78-7.78 2.81-2.81c.8-.78.8-2.07 0-2.86zM5.41 20L4 18.59l7.72-7.72 1.47 1.35L5.41 20z\"/>\n",
              "  </svg>\n",
              "      </button>\n",
              "      \n",
              "  <style>\n",
              "    .colab-df-container {\n",
              "      display:flex;\n",
              "      flex-wrap:wrap;\n",
              "      gap: 12px;\n",
              "    }\n",
              "\n",
              "    .colab-df-convert {\n",
              "      background-color: #E8F0FE;\n",
              "      border: none;\n",
              "      border-radius: 50%;\n",
              "      cursor: pointer;\n",
              "      display: none;\n",
              "      fill: #1967D2;\n",
              "      height: 32px;\n",
              "      padding: 0 0 0 0;\n",
              "      width: 32px;\n",
              "    }\n",
              "\n",
              "    .colab-df-convert:hover {\n",
              "      background-color: #E2EBFA;\n",
              "      box-shadow: 0px 1px 2px rgba(60, 64, 67, 0.3), 0px 1px 3px 1px rgba(60, 64, 67, 0.15);\n",
              "      fill: #174EA6;\n",
              "    }\n",
              "\n",
              "    [theme=dark] .colab-df-convert {\n",
              "      background-color: #3B4455;\n",
              "      fill: #D2E3FC;\n",
              "    }\n",
              "\n",
              "    [theme=dark] .colab-df-convert:hover {\n",
              "      background-color: #434B5C;\n",
              "      box-shadow: 0px 1px 3px 1px rgba(0, 0, 0, 0.15);\n",
              "      filter: drop-shadow(0px 1px 2px rgba(0, 0, 0, 0.3));\n",
              "      fill: #FFFFFF;\n",
              "    }\n",
              "  </style>\n",
              "\n",
              "      <script>\n",
              "        const buttonEl =\n",
              "          document.querySelector('#df-2dc57a1a-0c20-4bfd-b25f-7cd54c850676 button.colab-df-convert');\n",
              "        buttonEl.style.display =\n",
              "          google.colab.kernel.accessAllowed ? 'block' : 'none';\n",
              "\n",
              "        async function convertToInteractive(key) {\n",
              "          const element = document.querySelector('#df-2dc57a1a-0c20-4bfd-b25f-7cd54c850676');\n",
              "          const dataTable =\n",
              "            await google.colab.kernel.invokeFunction('convertToInteractive',\n",
              "                                                     [key], {});\n",
              "          if (!dataTable) return;\n",
              "\n",
              "          const docLinkHtml = 'Like what you see? Visit the ' +\n",
              "            '<a target=\"_blank\" href=https://colab.research.google.com/notebooks/data_table.ipynb>data table notebook</a>'\n",
              "            + ' to learn more about interactive tables.';\n",
              "          element.innerHTML = '';\n",
              "          dataTable['output_type'] = 'display_data';\n",
              "          await google.colab.output.renderOutput(dataTable, element);\n",
              "          const docLink = document.createElement('div');\n",
              "          docLink.innerHTML = docLinkHtml;\n",
              "          element.appendChild(docLink);\n",
              "        }\n",
              "      </script>\n",
              "    </div>\n",
              "  </div>\n",
              "  "
            ]
          },
          "metadata": {},
          "execution_count": 65
        }
      ],
      "source": [
        "calls = pd.read_csv(\"data/Berkeley_PD_-_Calls_for_Service.csv\")\n",
        "calls.head()"
      ]
    },
    {
      "cell_type": "markdown",
      "metadata": {
        "id": "qKU-FKrFlWC_"
      },
      "source": [
        "We see that the fields include a case number, the offense type, the date and time of the offense, the \"CVLEGEND\" which appears to be related to the offense type, a \"CVDOW\" which has no apparent meaning, a date added to the database, and the location spread across four fields.\n",
        "\n",
        "Let's also check some basic information about these files using the `DataFrame.info` and `DataFrame.describe` methods."
      ]
    },
    {
      "cell_type": "code",
      "execution_count": 66,
      "metadata": {
        "jupyter": {
          "outputs_hidden": false
        },
        "id": "I5PcA8StlWC_",
        "outputId": "e3838db1-a740-41e1-c9e8-724591d67586",
        "colab": {
          "base_uri": "https://localhost:8080/"
        }
      },
      "outputs": [
        {
          "output_type": "stream",
          "name": "stdout",
          "text": [
            "<class 'pandas.core.frame.DataFrame'>\n",
            "RangeIndex: 3788 entries, 0 to 3787\n",
            "Data columns (total 11 columns):\n",
            " #   Column          Non-Null Count  Dtype \n",
            "---  ------          --------------  ----- \n",
            " 0   CASENO          3788 non-null   int64 \n",
            " 1   OFFENSE         3788 non-null   object\n",
            " 2   EVENTDT         3788 non-null   object\n",
            " 3   EVENTTM         3788 non-null   object\n",
            " 4   CVLEGEND        3788 non-null   object\n",
            " 5   CVDOW           3788 non-null   int64 \n",
            " 6   InDbDate        3788 non-null   object\n",
            " 7   Block_Location  3788 non-null   object\n",
            " 8   BLKADDR         3766 non-null   object\n",
            " 9   City            3788 non-null   object\n",
            " 10  State           3788 non-null   object\n",
            "dtypes: int64(2), object(9)\n",
            "memory usage: 325.7+ KB\n"
          ]
        }
      ],
      "source": [
        "calls.info()"
      ]
    },
    {
      "cell_type": "markdown",
      "metadata": {
        "id": "lfLaRMonlWDA"
      },
      "source": [
        "Note that the `BLKADDR` column only has 3766 non-null entries, while the other columns all have 3788 entries. This is because the `.info()` method only counts non-null entries."
      ]
    },
    {
      "cell_type": "code",
      "execution_count": 67,
      "metadata": {
        "jupyter": {
          "outputs_hidden": false
        },
        "id": "usODJyavlWDA",
        "outputId": "07efb065-ceb5-49f5-cdff-19d4c8607c4e",
        "colab": {
          "base_uri": "https://localhost:8080/",
          "height": 300
        }
      },
      "outputs": [
        {
          "output_type": "execute_result",
          "data": {
            "text/plain": [
              "             CASENO        CVDOW\n",
              "count  3.788000e+03  3788.000000\n",
              "mean   1.804387e+07     2.997888\n",
              "std    2.665970e+04     1.952160\n",
              "min    1.801375e+07     0.000000\n",
              "25%    1.802444e+07     1.000000\n",
              "50%    1.803530e+07     3.000000\n",
              "75%    1.804537e+07     5.000000\n",
              "max    1.809135e+07     6.000000"
            ],
            "text/html": [
              "\n",
              "  <div id=\"df-42c799a4-ca2b-4efe-ac74-0dd05cc6aa41\">\n",
              "    <div class=\"colab-df-container\">\n",
              "      <div>\n",
              "<style scoped>\n",
              "    .dataframe tbody tr th:only-of-type {\n",
              "        vertical-align: middle;\n",
              "    }\n",
              "\n",
              "    .dataframe tbody tr th {\n",
              "        vertical-align: top;\n",
              "    }\n",
              "\n",
              "    .dataframe thead th {\n",
              "        text-align: right;\n",
              "    }\n",
              "</style>\n",
              "<table border=\"1\" class=\"dataframe\">\n",
              "  <thead>\n",
              "    <tr style=\"text-align: right;\">\n",
              "      <th></th>\n",
              "      <th>CASENO</th>\n",
              "      <th>CVDOW</th>\n",
              "    </tr>\n",
              "  </thead>\n",
              "  <tbody>\n",
              "    <tr>\n",
              "      <th>count</th>\n",
              "      <td>3.788000e+03</td>\n",
              "      <td>3788.000000</td>\n",
              "    </tr>\n",
              "    <tr>\n",
              "      <th>mean</th>\n",
              "      <td>1.804387e+07</td>\n",
              "      <td>2.997888</td>\n",
              "    </tr>\n",
              "    <tr>\n",
              "      <th>std</th>\n",
              "      <td>2.665970e+04</td>\n",
              "      <td>1.952160</td>\n",
              "    </tr>\n",
              "    <tr>\n",
              "      <th>min</th>\n",
              "      <td>1.801375e+07</td>\n",
              "      <td>0.000000</td>\n",
              "    </tr>\n",
              "    <tr>\n",
              "      <th>25%</th>\n",
              "      <td>1.802444e+07</td>\n",
              "      <td>1.000000</td>\n",
              "    </tr>\n",
              "    <tr>\n",
              "      <th>50%</th>\n",
              "      <td>1.803530e+07</td>\n",
              "      <td>3.000000</td>\n",
              "    </tr>\n",
              "    <tr>\n",
              "      <th>75%</th>\n",
              "      <td>1.804537e+07</td>\n",
              "      <td>5.000000</td>\n",
              "    </tr>\n",
              "    <tr>\n",
              "      <th>max</th>\n",
              "      <td>1.809135e+07</td>\n",
              "      <td>6.000000</td>\n",
              "    </tr>\n",
              "  </tbody>\n",
              "</table>\n",
              "</div>\n",
              "      <button class=\"colab-df-convert\" onclick=\"convertToInteractive('df-42c799a4-ca2b-4efe-ac74-0dd05cc6aa41')\"\n",
              "              title=\"Convert this dataframe to an interactive table.\"\n",
              "              style=\"display:none;\">\n",
              "        \n",
              "  <svg xmlns=\"http://www.w3.org/2000/svg\" height=\"24px\"viewBox=\"0 0 24 24\"\n",
              "       width=\"24px\">\n",
              "    <path d=\"M0 0h24v24H0V0z\" fill=\"none\"/>\n",
              "    <path d=\"M18.56 5.44l.94 2.06.94-2.06 2.06-.94-2.06-.94-.94-2.06-.94 2.06-2.06.94zm-11 1L8.5 8.5l.94-2.06 2.06-.94-2.06-.94L8.5 2.5l-.94 2.06-2.06.94zm10 10l.94 2.06.94-2.06 2.06-.94-2.06-.94-.94-2.06-.94 2.06-2.06.94z\"/><path d=\"M17.41 7.96l-1.37-1.37c-.4-.4-.92-.59-1.43-.59-.52 0-1.04.2-1.43.59L10.3 9.45l-7.72 7.72c-.78.78-.78 2.05 0 2.83L4 21.41c.39.39.9.59 1.41.59.51 0 1.02-.2 1.41-.59l7.78-7.78 2.81-2.81c.8-.78.8-2.07 0-2.86zM5.41 20L4 18.59l7.72-7.72 1.47 1.35L5.41 20z\"/>\n",
              "  </svg>\n",
              "      </button>\n",
              "      \n",
              "  <style>\n",
              "    .colab-df-container {\n",
              "      display:flex;\n",
              "      flex-wrap:wrap;\n",
              "      gap: 12px;\n",
              "    }\n",
              "\n",
              "    .colab-df-convert {\n",
              "      background-color: #E8F0FE;\n",
              "      border: none;\n",
              "      border-radius: 50%;\n",
              "      cursor: pointer;\n",
              "      display: none;\n",
              "      fill: #1967D2;\n",
              "      height: 32px;\n",
              "      padding: 0 0 0 0;\n",
              "      width: 32px;\n",
              "    }\n",
              "\n",
              "    .colab-df-convert:hover {\n",
              "      background-color: #E2EBFA;\n",
              "      box-shadow: 0px 1px 2px rgba(60, 64, 67, 0.3), 0px 1px 3px 1px rgba(60, 64, 67, 0.15);\n",
              "      fill: #174EA6;\n",
              "    }\n",
              "\n",
              "    [theme=dark] .colab-df-convert {\n",
              "      background-color: #3B4455;\n",
              "      fill: #D2E3FC;\n",
              "    }\n",
              "\n",
              "    [theme=dark] .colab-df-convert:hover {\n",
              "      background-color: #434B5C;\n",
              "      box-shadow: 0px 1px 3px 1px rgba(0, 0, 0, 0.15);\n",
              "      filter: drop-shadow(0px 1px 2px rgba(0, 0, 0, 0.3));\n",
              "      fill: #FFFFFF;\n",
              "    }\n",
              "  </style>\n",
              "\n",
              "      <script>\n",
              "        const buttonEl =\n",
              "          document.querySelector('#df-42c799a4-ca2b-4efe-ac74-0dd05cc6aa41 button.colab-df-convert');\n",
              "        buttonEl.style.display =\n",
              "          google.colab.kernel.accessAllowed ? 'block' : 'none';\n",
              "\n",
              "        async function convertToInteractive(key) {\n",
              "          const element = document.querySelector('#df-42c799a4-ca2b-4efe-ac74-0dd05cc6aa41');\n",
              "          const dataTable =\n",
              "            await google.colab.kernel.invokeFunction('convertToInteractive',\n",
              "                                                     [key], {});\n",
              "          if (!dataTable) return;\n",
              "\n",
              "          const docLinkHtml = 'Like what you see? Visit the ' +\n",
              "            '<a target=\"_blank\" href=https://colab.research.google.com/notebooks/data_table.ipynb>data table notebook</a>'\n",
              "            + ' to learn more about interactive tables.';\n",
              "          element.innerHTML = '';\n",
              "          dataTable['output_type'] = 'display_data';\n",
              "          await google.colab.output.renderOutput(dataTable, element);\n",
              "          const docLink = document.createElement('div');\n",
              "          docLink.innerHTML = docLinkHtml;\n",
              "          element.appendChild(docLink);\n",
              "        }\n",
              "      </script>\n",
              "    </div>\n",
              "  </div>\n",
              "  "
            ]
          },
          "metadata": {},
          "execution_count": 67
        }
      ],
      "source": [
        "calls.describe()"
      ]
    },
    {
      "cell_type": "markdown",
      "metadata": {
        "nbgrader": {
          "grade": false,
          "grade_id": "explore-4",
          "locked": true,
          "schema_version": 2,
          "solution": false
        },
        "id": "vg--VJ7qlWDA"
      },
      "source": [
        "Notice that the functions above reveal type information for the columns, as well as some basic statistics about the numerical columns found in the DataFrame. However, we still need more information about what each column represents. Let's explore the data further in Question 1.\n",
        "\n",
        "Before we go over the fields to see their meanings, the cell below will verify that all the events happened in Berkeley by grouping on the `City` and `State` columns. You should see that all of our data falls into one group."
      ]
    },
    {
      "cell_type": "code",
      "execution_count": 68,
      "metadata": {
        "jupyter": {
          "outputs_hidden": false
        },
        "id": "Brq-QF4SlWDA",
        "outputId": "16a04e81-54c1-4678-98f1-cf5344cc0ad0",
        "colab": {
          "base_uri": "https://localhost:8080/",
          "height": 112
        }
      },
      "outputs": [
        {
          "output_type": "execute_result",
          "data": {
            "text/plain": [
              "                CASENO  OFFENSE  EVENTDT  EVENTTM  CVLEGEND  CVDOW  InDbDate  \\\n",
              "City     State                                                                 \n",
              "Berkeley CA       3788     3788     3788     3788      3788   3788      3788   \n",
              "\n",
              "                Block_Location  BLKADDR  \n",
              "City     State                           \n",
              "Berkeley CA               3788     3766  "
            ],
            "text/html": [
              "\n",
              "  <div id=\"df-43473859-71d0-42d3-95ed-b1d507a7b376\">\n",
              "    <div class=\"colab-df-container\">\n",
              "      <div>\n",
              "<style scoped>\n",
              "    .dataframe tbody tr th:only-of-type {\n",
              "        vertical-align: middle;\n",
              "    }\n",
              "\n",
              "    .dataframe tbody tr th {\n",
              "        vertical-align: top;\n",
              "    }\n",
              "\n",
              "    .dataframe thead th {\n",
              "        text-align: right;\n",
              "    }\n",
              "</style>\n",
              "<table border=\"1\" class=\"dataframe\">\n",
              "  <thead>\n",
              "    <tr style=\"text-align: right;\">\n",
              "      <th></th>\n",
              "      <th></th>\n",
              "      <th>CASENO</th>\n",
              "      <th>OFFENSE</th>\n",
              "      <th>EVENTDT</th>\n",
              "      <th>EVENTTM</th>\n",
              "      <th>CVLEGEND</th>\n",
              "      <th>CVDOW</th>\n",
              "      <th>InDbDate</th>\n",
              "      <th>Block_Location</th>\n",
              "      <th>BLKADDR</th>\n",
              "    </tr>\n",
              "    <tr>\n",
              "      <th>City</th>\n",
              "      <th>State</th>\n",
              "      <th></th>\n",
              "      <th></th>\n",
              "      <th></th>\n",
              "      <th></th>\n",
              "      <th></th>\n",
              "      <th></th>\n",
              "      <th></th>\n",
              "      <th></th>\n",
              "      <th></th>\n",
              "    </tr>\n",
              "  </thead>\n",
              "  <tbody>\n",
              "    <tr>\n",
              "      <th>Berkeley</th>\n",
              "      <th>CA</th>\n",
              "      <td>3788</td>\n",
              "      <td>3788</td>\n",
              "      <td>3788</td>\n",
              "      <td>3788</td>\n",
              "      <td>3788</td>\n",
              "      <td>3788</td>\n",
              "      <td>3788</td>\n",
              "      <td>3788</td>\n",
              "      <td>3766</td>\n",
              "    </tr>\n",
              "  </tbody>\n",
              "</table>\n",
              "</div>\n",
              "      <button class=\"colab-df-convert\" onclick=\"convertToInteractive('df-43473859-71d0-42d3-95ed-b1d507a7b376')\"\n",
              "              title=\"Convert this dataframe to an interactive table.\"\n",
              "              style=\"display:none;\">\n",
              "        \n",
              "  <svg xmlns=\"http://www.w3.org/2000/svg\" height=\"24px\"viewBox=\"0 0 24 24\"\n",
              "       width=\"24px\">\n",
              "    <path d=\"M0 0h24v24H0V0z\" fill=\"none\"/>\n",
              "    <path d=\"M18.56 5.44l.94 2.06.94-2.06 2.06-.94-2.06-.94-.94-2.06-.94 2.06-2.06.94zm-11 1L8.5 8.5l.94-2.06 2.06-.94-2.06-.94L8.5 2.5l-.94 2.06-2.06.94zm10 10l.94 2.06.94-2.06 2.06-.94-2.06-.94-.94-2.06-.94 2.06-2.06.94z\"/><path d=\"M17.41 7.96l-1.37-1.37c-.4-.4-.92-.59-1.43-.59-.52 0-1.04.2-1.43.59L10.3 9.45l-7.72 7.72c-.78.78-.78 2.05 0 2.83L4 21.41c.39.39.9.59 1.41.59.51 0 1.02-.2 1.41-.59l7.78-7.78 2.81-2.81c.8-.78.8-2.07 0-2.86zM5.41 20L4 18.59l7.72-7.72 1.47 1.35L5.41 20z\"/>\n",
              "  </svg>\n",
              "      </button>\n",
              "      \n",
              "  <style>\n",
              "    .colab-df-container {\n",
              "      display:flex;\n",
              "      flex-wrap:wrap;\n",
              "      gap: 12px;\n",
              "    }\n",
              "\n",
              "    .colab-df-convert {\n",
              "      background-color: #E8F0FE;\n",
              "      border: none;\n",
              "      border-radius: 50%;\n",
              "      cursor: pointer;\n",
              "      display: none;\n",
              "      fill: #1967D2;\n",
              "      height: 32px;\n",
              "      padding: 0 0 0 0;\n",
              "      width: 32px;\n",
              "    }\n",
              "\n",
              "    .colab-df-convert:hover {\n",
              "      background-color: #E2EBFA;\n",
              "      box-shadow: 0px 1px 2px rgba(60, 64, 67, 0.3), 0px 1px 3px 1px rgba(60, 64, 67, 0.15);\n",
              "      fill: #174EA6;\n",
              "    }\n",
              "\n",
              "    [theme=dark] .colab-df-convert {\n",
              "      background-color: #3B4455;\n",
              "      fill: #D2E3FC;\n",
              "    }\n",
              "\n",
              "    [theme=dark] .colab-df-convert:hover {\n",
              "      background-color: #434B5C;\n",
              "      box-shadow: 0px 1px 3px 1px rgba(0, 0, 0, 0.15);\n",
              "      filter: drop-shadow(0px 1px 2px rgba(0, 0, 0, 0.3));\n",
              "      fill: #FFFFFF;\n",
              "    }\n",
              "  </style>\n",
              "\n",
              "      <script>\n",
              "        const buttonEl =\n",
              "          document.querySelector('#df-43473859-71d0-42d3-95ed-b1d507a7b376 button.colab-df-convert');\n",
              "        buttonEl.style.display =\n",
              "          google.colab.kernel.accessAllowed ? 'block' : 'none';\n",
              "\n",
              "        async function convertToInteractive(key) {\n",
              "          const element = document.querySelector('#df-43473859-71d0-42d3-95ed-b1d507a7b376');\n",
              "          const dataTable =\n",
              "            await google.colab.kernel.invokeFunction('convertToInteractive',\n",
              "                                                     [key], {});\n",
              "          if (!dataTable) return;\n",
              "\n",
              "          const docLinkHtml = 'Like what you see? Visit the ' +\n",
              "            '<a target=\"_blank\" href=https://colab.research.google.com/notebooks/data_table.ipynb>data table notebook</a>'\n",
              "            + ' to learn more about interactive tables.';\n",
              "          element.innerHTML = '';\n",
              "          dataTable['output_type'] = 'display_data';\n",
              "          await google.colab.output.renderOutput(dataTable, element);\n",
              "          const docLink = document.createElement('div');\n",
              "          docLink.innerHTML = docLinkHtml;\n",
              "          element.appendChild(docLink);\n",
              "        }\n",
              "      </script>\n",
              "    </div>\n",
              "  </div>\n",
              "  "
            ]
          },
          "metadata": {},
          "execution_count": 68
        }
      ],
      "source": [
        "calls.groupby([\"City\",\"State\"]).count()"
      ]
    },
    {
      "cell_type": "markdown",
      "metadata": {
        "nbgrader": {
          "grade": false,
          "grade_id": "q1",
          "locked": true,
          "schema_version": 2,
          "solution": false
        },
        "id": "ry0PwotrlWDA"
      },
      "source": [
        "When we called `head()` on the Dataframe `calls`, it seemed like `OFFENSE` and `CVLEGEND` both contained information about the type of event reported. What is the difference in meaning between the two columns? One way to probe this is to look at the `value_counts` for each Series."
      ]
    },
    {
      "cell_type": "code",
      "execution_count": 69,
      "metadata": {
        "jupyter": {
          "outputs_hidden": false
        },
        "id": "SJ4DXGfylWDA",
        "outputId": "85a7ecdc-2121-4a37-9e9b-d0ac2b70d0f0",
        "colab": {
          "base_uri": "https://localhost:8080/"
        }
      },
      "outputs": [
        {
          "output_type": "execute_result",
          "data": {
            "text/plain": [
              "BURGLARY AUTO               658\n",
              "THEFT MISD. (UNDER $950)    633\n",
              "DISTURBANCE                 277\n",
              "VANDALISM                   248\n",
              "VEHICLE STOLEN              235\n",
              "THEFT FELONY (OVER $950)    214\n",
              "BURGLARY RESIDENTIAL        194\n",
              "ASSAULT/BATTERY MISD.       190\n",
              "ROBBERY                     168\n",
              "NARCOTICS                   118\n",
              "Name: OFFENSE, dtype: int64"
            ]
          },
          "metadata": {},
          "execution_count": 69
        }
      ],
      "source": [
        "calls['OFFENSE'].value_counts().head(10)"
      ]
    },
    {
      "cell_type": "code",
      "execution_count": 70,
      "metadata": {
        "jupyter": {
          "outputs_hidden": false
        },
        "id": "nZQm0qVVlWDA",
        "outputId": "7aa2a73b-ac0d-4deb-bf57-09e0dd673ef8",
        "colab": {
          "base_uri": "https://localhost:8080/"
        }
      },
      "outputs": [
        {
          "output_type": "execute_result",
          "data": {
            "text/plain": [
              "LARCENY                   871\n",
              "BURGLARY - VEHICLE        658\n",
              "DISORDERLY CONDUCT        279\n",
              "ASSAULT                   263\n",
              "VANDALISM                 248\n",
              "MOTOR VEHICLE THEFT       235\n",
              "FRAUD                     208\n",
              "BURGLARY - RESIDENTIAL    194\n",
              "ROBBERY                   168\n",
              "DRUG VIOLATION            118\n",
              "Name: CVLEGEND, dtype: int64"
            ]
          },
          "metadata": {},
          "execution_count": 70
        }
      ],
      "source": [
        "calls['CVLEGEND'].value_counts().head(10)"
      ]
    },
    {
      "cell_type": "markdown",
      "metadata": {
        "nbgrader": {
          "grade": false,
          "grade_id": "q1a",
          "locked": true,
          "schema_version": 2,
          "solution": false
        },
        "id": "Kw9kQ8GulWDB"
      },
      "source": [
        "It seems like `OFFENSE` is more specific than `CVLEGEND`, e.g. \"LARCENY\" vs. \"THEFT FELONY (OVER $950)\". If you're unfamiliar with the term, \"larceny\" is a legal term for theft of personal property.\n",
        "\n",
        "To get a sense of how many subcategories there are for each `OFFENSE`, we will set `calls_by_cvlegend_and_offense` equal to a multi-indexed series where the data is first indexed on the `CVLEGEND` and then on the `OFFENSE`, and the data is equal to the number of offenses in the database that match the respective `CVLEGEND` and `OFFENSE`. As you can see, `calls_by_cvlegend_and_offense[\"LARCENY\", \"THEFT FROM PERSON\"]` returns 24 which means there are 24 instances of larceny with offense of type \"THEFT FROM PERSON\" in the database."
      ]
    },
    {
      "cell_type": "code",
      "execution_count": 71,
      "metadata": {
        "id": "6qTCwGrqlWDB",
        "outputId": "159269e7-96ab-4e42-9e37-7e8732b0ba3d",
        "colab": {
          "base_uri": "https://localhost:8080/"
        }
      },
      "outputs": [
        {
          "output_type": "execute_result",
          "data": {
            "text/plain": [
              "24"
            ]
          },
          "metadata": {},
          "execution_count": 71
        }
      ],
      "source": [
        "calls_by_cvlegend_and_offense = calls.groupby([\"CVLEGEND\", \"OFFENSE\"]).size()\n",
        "calls_by_cvlegend_and_offense[\"LARCENY\", \"THEFT FROM PERSON\"]"
      ]
    },
    {
      "cell_type": "markdown",
      "metadata": {
        "deletable": false,
        "editable": false,
        "nbgrader": {
          "grade": false,
          "grade_id": "q1b",
          "locked": true,
          "schema_version": 2,
          "solution": false
        },
        "id": "NyQC2rOhlWDB"
      },
      "source": [
        "### Question 1\n",
        "\n",
        "In the cell below, set `answer1` equal to a list of strings corresponding to the possible values for `OFFENSE` when `CVLEGEND` is \"LARCENY\". You can type the answer manually, or you can create an expression that automatically extracts the names.\n",
        "\n",
        "<!--\n",
        "BEGIN QUESTION\n",
        "name: q1\n",
        "-->"
      ]
    },
    {
      "cell_type": "code",
      "source": [
        "filtered_by_larceny = calls[calls['CVLEGEND'] == 'LARCENY']\n",
        "grouped_by_offense = calls[calls['CVLEGEND'] == 'LARCENY'].groupby([\"OFFENSE\"]).count()\n",
        "answer = list(grouped_by_offense.index)"
      ],
      "metadata": {
        "id": "2TBw78uTmM54"
      },
      "execution_count": 121,
      "outputs": []
    },
    {
      "cell_type": "code",
      "execution_count": 72,
      "metadata": {
        "jupyter": {
          "outputs_hidden": false
        },
        "id": "YW5w-mvalWDB",
        "colab": {
          "base_uri": "https://localhost:8080/"
        },
        "outputId": "1468a0d3-70a8-405e-f0f0-2c63577d23df"
      },
      "outputs": [
        {
          "output_type": "execute_result",
          "data": {
            "text/plain": [
              "['THEFT FELONY (OVER $950)', 'THEFT FROM PERSON', 'THEFT MISD. (UNDER $950)']"
            ]
          },
          "metadata": {},
          "execution_count": 72
        }
      ],
      "source": [
        "larceny_calls_by_offense = calls[calls['CVLEGEND'] == 'LARCENY'].groupby([\"OFFENSE\"]).count()\n",
        "answer1 = list(larceny_calls_by_offense.index)\n",
        "answer1"
      ]
    },
    {
      "cell_type": "markdown",
      "metadata": {
        "nbgrader": {
          "grade": false,
          "grade_id": "setup",
          "locked": true,
          "schema_version": 2,
          "solution": false
        },
        "id": "zNhgpSoglWDB"
      },
      "source": [
        "--- \n",
        "\n",
        "## Part 2: Visualization\n"
      ]
    },
    {
      "cell_type": "markdown",
      "metadata": {
        "nbgrader": {
          "grade": false,
          "grade_id": "part2",
          "locked": true,
          "schema_version": 2,
          "solution": false
        },
        "id": "PGRuZeimlWDB"
      },
      "source": [
        "## Pandas Examples\n",
        "\n",
        "Pandas offers basic functionality for plotting. For example, the `DataFrame` and `Series` classes both have a `plot` method. \n",
        "\n",
        "As you learn to do data visualization, you may find the [pandas plotting documentation](https://pandas.pydata.org/pandas-docs/stable/reference/api/pandas.DataFrame.plot.html)  helpful!"
      ]
    },
    {
      "cell_type": "markdown",
      "metadata": {
        "nbgrader": {
          "grade": false,
          "grade_id": "plot-demo",
          "locked": true,
          "schema_version": 2,
          "solution": false
        },
        "id": "xcKxOCmzlWDB"
      },
      "source": [
        "As an example of the built-in plotting functionality of pandas, the following example uses `plot` method of the `Series` class to generate a `barh` plot type to visually display the value counts for `CVLEGEND`.\n",
        "\n",
        "There are also many other plots that we will explore throughout the lab."
      ]
    },
    {
      "cell_type": "code",
      "execution_count": 73,
      "metadata": {
        "jupyter": {
          "outputs_hidden": false
        },
        "nbgrader": {
          "grade": false,
          "grade_id": "plot-demo1",
          "locked": true,
          "schema_version": 2,
          "solution": false
        },
        "id": "RET5B3ydlWDC",
        "colab": {
          "base_uri": "https://localhost:8080/",
          "height": 567
        },
        "outputId": "5b493ffb-f036-4184-ee06-6061d6b4a389"
      },
      "outputs": [
        {
          "output_type": "display_data",
          "data": {
            "text/plain": [
              "<Figure size 864x648 with 1 Axes>"
            ],
            "image/png": "[encoded data removed]"
          },
          "metadata": {
            "needs_background": "light"
          }
        }
      ],
      "source": [
        "ax = calls['CVLEGEND'].value_counts().plot(kind='barh')\n",
        "ax.set_ylabel(\"Crime Category\")\n",
        "ax.set_xlabel(\"Number of Calls\")\n",
        "ax.set_title(\"Number of Calls By Crime Type\");\n",
        "ax2 = plt.gca()"
      ]
    },
    {
      "cell_type": "markdown",
      "metadata": {
        "nbgrader": {
          "grade": false,
          "grade_id": "plot-demo6",
          "locked": true,
          "schema_version": 2,
          "solution": false
        },
        "id": "R2ZwG3O-lWDC"
      },
      "source": [
        "\n",
        "\n",
        "## An Additional Note on Plotting in Jupyter Notebooks\n",
        "\n",
        "You may have noticed that many of our code cells involving plotting end with a semicolon (;). This prevents any extra output from the last line of the cell that we may not want to see. Try adding this to your own code in the following questions!"
      ]
    },
    {
      "cell_type": "markdown",
      "metadata": {
        "deletable": false,
        "editable": false,
        "nbgrader": {
          "grade": false,
          "grade_id": "q3",
          "locked": true,
          "schema_version": 2,
          "solution": false
        },
        "id": "PknC0vtMlWDC"
      },
      "source": [
        "### Question 2\n",
        "\n",
        "Now it is your turn to make some plots using `pandas`.  Let's start by transforming the data so that it is easier to work with. We then will look at some distributions of the data. \n",
        "\n",
        "The CVDOW field isn't named helpfully and it is hard to see the meaning from the data alone. According to the website linked at the top of this notebook, CVDOW is actually indicating the day that events happened. 0->Sunday, 1->Monday ... 6->Saturday. \n",
        "\n",
        "#### Question 2a\n",
        "\n",
        "Add a new column `Day` into the `calls` DataFrame that has the string weekday (eg. 'Sunday') for the corresponding value in CVDOW. For example, if the first 3 values of `CVDOW` are `[3, 6, 0]`, then the first 3 values of the `Day` column should be `[\"Wednesday\", \"Saturday\", \"Sunday\"]`.\n",
        "\n",
        "**Hint:** *Try using the [Series.map](https://pandas.pydata.org/pandas-docs/stable/reference/api/pandas.Series.map.html) function on `calls[\"CVDOW\"]`.  Can you assign this to the new column `calls[\"Day\"]`?*\n",
        "\n",
        "<!--\n",
        "BEGIN QUESTION\n",
        "name: q2a\n",
        "-->"
      ]
    },
    {
      "cell_type": "code",
      "source": [
        "days = [\"Sunday\", \"Monday\", \"Tuesday\", \"Wednesday\", \"Thursday\", \"Friday\", \"Saturday\"]\n",
        "day_indices = range(7)\n",
        "indices_to_days_dict = dict(zip(day_indices, days)) # Should look like {0:\"Sunday\", 1:\"Monday\", ..., 6:\"Saturday\"}\n",
        "\n",
        "\n",
        "calls[\"Day\"] = calls['CVDOW'].map(indices_to_days_dict)\n",
        "\n",
        "calls"
      ],
      "metadata": {
        "colab": {
          "base_uri": "https://localhost:8080/",
          "height": 641
        },
        "id": "WsjPs2vvp9YV",
        "outputId": "a11eca60-a36e-40e2-e44c-68bea986ba60"
      },
      "execution_count": 128,
      "outputs": [
        {
          "output_type": "execute_result",
          "data": {
            "text/plain": [
              "        CASENO                   OFFENSE                 EVENTDT EVENTTM  \\\n",
              "0     18022300               DISTURBANCE  04/18/2018 12:00:00 AM   22:17   \n",
              "1     18026683  THEFT MISD. (UNDER $950)  05/09/2018 12:00:00 AM   21:25   \n",
              "2     18038550  THEFT MISD. (UNDER $950)  05/18/2018 12:00:00 AM   20:00   \n",
              "3     18014810             BURGLARY AUTO  03/13/2018 12:00:00 AM   08:50   \n",
              "4     18018643           ALCOHOL OFFENSE  03/31/2018 12:00:00 AM   13:29   \n",
              "...        ...                       ...                     ...     ...   \n",
              "3783  18045829  THEFT MISD. (UNDER $950)  08/15/2018 12:00:00 AM   08:42   \n",
              "3784  18040137               DISTURBANCE  07/17/2018 12:00:00 AM   10:34   \n",
              "3785  18090816                 VANDALISM  05/16/2018 12:00:00 AM   20:00   \n",
              "3786  18024397       SEXUAL ASSAULT FEL.  04/28/2018 12:00:00 AM   17:00   \n",
              "3787  18021099      ASSAULT/BATTERY FEL.  04/12/2018 12:00:00 AM   21:39   \n",
              "\n",
              "                  CVLEGEND  CVDOW                InDbDate  \\\n",
              "0       DISORDERLY CONDUCT      3  09/06/2018 03:30:12 AM   \n",
              "1                  LARCENY      3  09/06/2018 03:30:13 AM   \n",
              "2                  LARCENY      5  09/06/2018 03:30:09 AM   \n",
              "3       BURGLARY - VEHICLE      2  09/06/2018 03:30:08 AM   \n",
              "4     LIQUOR LAW VIOLATION      6  09/06/2018 03:30:11 AM   \n",
              "...                    ...    ...                     ...   \n",
              "3783               LARCENY      3  09/06/2018 03:30:10 AM   \n",
              "3784    DISORDERLY CONDUCT      2  09/06/2018 03:30:13 AM   \n",
              "3785             VANDALISM      3  09/06/2018 03:30:13 AM   \n",
              "3786             SEX CRIME      6  09/06/2018 03:30:12 AM   \n",
              "3787               ASSAULT      4  09/06/2018 03:30:12 AM   \n",
              "\n",
              "                                         Block_Location  \\\n",
              "0     OREGON STREET &amp; MCGEE AVE\\nBerkeley, CA\\n(...   \n",
              "1     200 UNIVERSITY AVE\\nBerkeley, CA\\n(37.865511, ...   \n",
              "2     2200 MILVIA ST\\nBerkeley, CA\\n(37.868574, -122...   \n",
              "3     1200 SIXTH ST\\nBerkeley, CA\\n(37.881142, -122....   \n",
              "4     CENTER STREET &amp; SHATTUCK AVE\\nBerkeley, CA...   \n",
              "...                                                 ...   \n",
              "3783  2300 TELEGRAPH AVE\\nBerkeley, CA\\n(37.868714, ...   \n",
              "3784  1100 UNIVERSITY AVE\\nBerkeley, CA\\n(37.869067,...   \n",
              "3785                     800 VICENTE RD\\nBerkeley, CA\\n   \n",
              "3786  2700 BANCROFT WAY\\nBerkeley, CA\\n(37.869312, -...   \n",
              "3787  1600 RUSSELL ST\\nBerkeley, CA\\n(37.85525, -122...   \n",
              "\n",
              "                           BLKADDR      City State        Day  Hour  \n",
              "0        OREGON STREET & MCGEE AVE  Berkeley    CA  Wednesday    22  \n",
              "1               200 UNIVERSITY AVE  Berkeley    CA  Wednesday    21  \n",
              "2                   2200 MILVIA ST  Berkeley    CA     Friday    20  \n",
              "3                    1200 SIXTH ST  Berkeley    CA    Tuesday     8  \n",
              "4     CENTER STREET & SHATTUCK AVE  Berkeley    CA   Saturday    13  \n",
              "...                            ...       ...   ...        ...   ...  \n",
              "3783            2300 TELEGRAPH AVE  Berkeley    CA  Wednesday     8  \n",
              "3784           1100 UNIVERSITY AVE  Berkeley    CA    Tuesday    10  \n",
              "3785                800 VICENTE RD  Berkeley    CA  Wednesday    20  \n",
              "3786             2700 BANCROFT WAY  Berkeley    CA   Saturday    17  \n",
              "3787               1600 RUSSELL ST  Berkeley    CA   Thursday    21  \n",
              "\n",
              "[3788 rows x 13 columns]"
            ],
            "text/html": [
              "\n",
              "  <div id=\"df-1219a106-a8af-4eda-8427-369f2b3ac0e6\">\n",
              "    <div class=\"colab-df-container\">\n",
              "      <div>\n",
              "<style scoped>\n",
              "    .dataframe tbody tr th:only-of-type {\n",
              "        vertical-align: middle;\n",
              "    }\n",
              "\n",
              "    .dataframe tbody tr th {\n",
              "        vertical-align: top;\n",
              "    }\n",
              "\n",
              "    .dataframe thead th {\n",
              "        text-align: right;\n",
              "    }\n",
              "</style>\n",
              "<table border=\"1\" class=\"dataframe\">\n",
              "  <thead>\n",
              "    <tr style=\"text-align: right;\">\n",
              "      <th></th>\n",
              "      <th>CASENO</th>\n",
              "      <th>OFFENSE</th>\n",
              "      <th>EVENTDT</th>\n",
              "      <th>EVENTTM</th>\n",
              "      <th>CVLEGEND</th>\n",
              "      <th>CVDOW</th>\n",
              "      <th>InDbDate</th>\n",
              "      <th>Block_Location</th>\n",
              "      <th>BLKADDR</th>\n",
              "      <th>City</th>\n",
              "      <th>State</th>\n",
              "      <th>Day</th>\n",
              "      <th>Hour</th>\n",
              "    </tr>\n",
              "  </thead>\n",
              "  <tbody>\n",
              "    <tr>\n",
              "      <th>0</th>\n",
              "      <td>18022300</td>\n",
              "      <td>DISTURBANCE</td>\n",
              "      <td>04/18/2018 12:00:00 AM</td>\n",
              "      <td>22:17</td>\n",
              "      <td>DISORDERLY CONDUCT</td>\n",
              "      <td>3</td>\n",
              "      <td>09/06/2018 03:30:12 AM</td>\n",
              "      <td>OREGON STREET &amp;amp; MCGEE AVE\\nBerkeley, CA\\n(...</td>\n",
              "      <td>OREGON STREET &amp; MCGEE AVE</td>\n",
              "      <td>Berkeley</td>\n",
              "      <td>CA</td>\n",
              "      <td>Wednesday</td>\n",
              "      <td>22</td>\n",
              "    </tr>\n",
              "    <tr>\n",
              "      <th>1</th>\n",
              "      <td>18026683</td>\n",
              "      <td>THEFT MISD. (UNDER $950)</td>\n",
              "      <td>05/09/2018 12:00:00 AM</td>\n",
              "      <td>21:25</td>\n",
              "      <td>LARCENY</td>\n",
              "      <td>3</td>\n",
              "      <td>09/06/2018 03:30:13 AM</td>\n",
              "      <td>200 UNIVERSITY AVE\\nBerkeley, CA\\n(37.865511, ...</td>\n",
              "      <td>200 UNIVERSITY AVE</td>\n",
              "      <td>Berkeley</td>\n",
              "      <td>CA</td>\n",
              "      <td>Wednesday</td>\n",
              "      <td>21</td>\n",
              "    </tr>\n",
              "    <tr>\n",
              "      <th>2</th>\n",
              "      <td>18038550</td>\n",
              "      <td>THEFT MISD. (UNDER $950)</td>\n",
              "      <td>05/18/2018 12:00:00 AM</td>\n",
              "      <td>20:00</td>\n",
              "      <td>LARCENY</td>\n",
              "      <td>5</td>\n",
              "      <td>09/06/2018 03:30:09 AM</td>\n",
              "      <td>2200 MILVIA ST\\nBerkeley, CA\\n(37.868574, -122...</td>\n",
              "      <td>2200 MILVIA ST</td>\n",
              "      <td>Berkeley</td>\n",
              "      <td>CA</td>\n",
              "      <td>Friday</td>\n",
              "      <td>20</td>\n",
              "    </tr>\n",
              "    <tr>\n",
              "      <th>3</th>\n",
              "      <td>18014810</td>\n",
              "      <td>BURGLARY AUTO</td>\n",
              "      <td>03/13/2018 12:00:00 AM</td>\n",
              "      <td>08:50</td>\n",
              "      <td>BURGLARY - VEHICLE</td>\n",
              "      <td>2</td>\n",
              "      <td>09/06/2018 03:30:08 AM</td>\n",
              "      <td>1200 SIXTH ST\\nBerkeley, CA\\n(37.881142, -122....</td>\n",
              "      <td>1200 SIXTH ST</td>\n",
              "      <td>Berkeley</td>\n",
              "      <td>CA</td>\n",
              "      <td>Tuesday</td>\n",
              "      <td>8</td>\n",
              "    </tr>\n",
              "    <tr>\n",
              "      <th>4</th>\n",
              "      <td>18018643</td>\n",
              "      <td>ALCOHOL OFFENSE</td>\n",
              "      <td>03/31/2018 12:00:00 AM</td>\n",
              "      <td>13:29</td>\n",
              "      <td>LIQUOR LAW VIOLATION</td>\n",
              "      <td>6</td>\n",
              "      <td>09/06/2018 03:30:11 AM</td>\n",
              "      <td>CENTER STREET &amp;amp; SHATTUCK AVE\\nBerkeley, CA...</td>\n",
              "      <td>CENTER STREET &amp; SHATTUCK AVE</td>\n",
              "      <td>Berkeley</td>\n",
              "      <td>CA</td>\n",
              "      <td>Saturday</td>\n",
              "      <td>13</td>\n",
              "    </tr>\n",
              "    <tr>\n",
              "      <th>...</th>\n",
              "      <td>...</td>\n",
              "      <td>...</td>\n",
              "      <td>...</td>\n",
              "      <td>...</td>\n",
              "      <td>...</td>\n",
              "      <td>...</td>\n",
              "      <td>...</td>\n",
              "      <td>...</td>\n",
              "      <td>...</td>\n",
              "      <td>...</td>\n",
              "      <td>...</td>\n",
              "      <td>...</td>\n",
              "      <td>...</td>\n",
              "    </tr>\n",
              "    <tr>\n",
              "      <th>3783</th>\n",
              "      <td>18045829</td>\n",
              "      <td>THEFT MISD. (UNDER $950)</td>\n",
              "      <td>08/15/2018 12:00:00 AM</td>\n",
              "      <td>08:42</td>\n",
              "      <td>LARCENY</td>\n",
              "      <td>3</td>\n",
              "      <td>09/06/2018 03:30:10 AM</td>\n",
              "      <td>2300 TELEGRAPH AVE\\nBerkeley, CA\\n(37.868714, ...</td>\n",
              "      <td>2300 TELEGRAPH AVE</td>\n",
              "      <td>Berkeley</td>\n",
              "      <td>CA</td>\n",
              "      <td>Wednesday</td>\n",
              "      <td>8</td>\n",
              "    </tr>\n",
              "    <tr>\n",
              "      <th>3784</th>\n",
              "      <td>18040137</td>\n",
              "      <td>DISTURBANCE</td>\n",
              "      <td>07/17/2018 12:00:00 AM</td>\n",
              "      <td>10:34</td>\n",
              "      <td>DISORDERLY CONDUCT</td>\n",
              "      <td>2</td>\n",
              "      <td>09/06/2018 03:30:13 AM</td>\n",
              "      <td>1100 UNIVERSITY AVE\\nBerkeley, CA\\n(37.869067,...</td>\n",
              "      <td>1100 UNIVERSITY AVE</td>\n",
              "      <td>Berkeley</td>\n",
              "      <td>CA</td>\n",
              "      <td>Tuesday</td>\n",
              "      <td>10</td>\n",
              "    </tr>\n",
              "    <tr>\n",
              "      <th>3785</th>\n",
              "      <td>18090816</td>\n",
              "      <td>VANDALISM</td>\n",
              "      <td>05/16/2018 12:00:00 AM</td>\n",
              "      <td>20:00</td>\n",
              "      <td>VANDALISM</td>\n",
              "      <td>3</td>\n",
              "      <td>09/06/2018 03:30:13 AM</td>\n",
              "      <td>800 VICENTE RD\\nBerkeley, CA\\n</td>\n",
              "      <td>800 VICENTE RD</td>\n",
              "      <td>Berkeley</td>\n",
              "      <td>CA</td>\n",
              "      <td>Wednesday</td>\n",
              "      <td>20</td>\n",
              "    </tr>\n",
              "    <tr>\n",
              "      <th>3786</th>\n",
              "      <td>18024397</td>\n",
              "      <td>SEXUAL ASSAULT FEL.</td>\n",
              "      <td>04/28/2018 12:00:00 AM</td>\n",
              "      <td>17:00</td>\n",
              "      <td>SEX CRIME</td>\n",
              "      <td>6</td>\n",
              "      <td>09/06/2018 03:30:12 AM</td>\n",
              "      <td>2700 BANCROFT WAY\\nBerkeley, CA\\n(37.869312, -...</td>\n",
              "      <td>2700 BANCROFT WAY</td>\n",
              "      <td>Berkeley</td>\n",
              "      <td>CA</td>\n",
              "      <td>Saturday</td>\n",
              "      <td>17</td>\n",
              "    </tr>\n",
              "    <tr>\n",
              "      <th>3787</th>\n",
              "      <td>18021099</td>\n",
              "      <td>ASSAULT/BATTERY FEL.</td>\n",
              "      <td>04/12/2018 12:00:00 AM</td>\n",
              "      <td>21:39</td>\n",
              "      <td>ASSAULT</td>\n",
              "      <td>4</td>\n",
              "      <td>09/06/2018 03:30:12 AM</td>\n",
              "      <td>1600 RUSSELL ST\\nBerkeley, CA\\n(37.85525, -122...</td>\n",
              "      <td>1600 RUSSELL ST</td>\n",
              "      <td>Berkeley</td>\n",
              "      <td>CA</td>\n",
              "      <td>Thursday</td>\n",
              "      <td>21</td>\n",
              "    </tr>\n",
              "  </tbody>\n",
              "</table>\n",
              "<p>3788 rows × 13 columns</p>\n",
              "</div>\n",
              "      <button class=\"colab-df-convert\" onclick=\"convertToInteractive('df-1219a106-a8af-4eda-8427-369f2b3ac0e6')\"\n",
              "              title=\"Convert this dataframe to an interactive table.\"\n",
              "              style=\"display:none;\">\n",
              "        \n",
              "  <svg xmlns=\"http://www.w3.org/2000/svg\" height=\"24px\"viewBox=\"0 0 24 24\"\n",
              "       width=\"24px\">\n",
              "    <path d=\"M0 0h24v24H0V0z\" fill=\"none\"/>\n",
              "    <path d=\"M18.56 5.44l.94 2.06.94-2.06 2.06-.94-2.06-.94-.94-2.06-.94 2.06-2.06.94zm-11 1L8.5 8.5l.94-2.06 2.06-.94-2.06-.94L8.5 2.5l-.94 2.06-2.06.94zm10 10l.94 2.06.94-2.06 2.06-.94-2.06-.94-.94-2.06-.94 2.06-2.06.94z\"/><path d=\"M17.41 7.96l-1.37-1.37c-.4-.4-.92-.59-1.43-.59-.52 0-1.04.2-1.43.59L10.3 9.45l-7.72 7.72c-.78.78-.78 2.05 0 2.83L4 21.41c.39.39.9.59 1.41.59.51 0 1.02-.2 1.41-.59l7.78-7.78 2.81-2.81c.8-.78.8-2.07 0-2.86zM5.41 20L4 18.59l7.72-7.72 1.47 1.35L5.41 20z\"/>\n",
              "  </svg>\n",
              "      </button>\n",
              "      \n",
              "  <style>\n",
              "    .colab-df-container {\n",
              "      display:flex;\n",
              "      flex-wrap:wrap;\n",
              "      gap: 12px;\n",
              "    }\n",
              "\n",
              "    .colab-df-convert {\n",
              "      background-color: #E8F0FE;\n",
              "      border: none;\n",
              "      border-radius: 50%;\n",
              "      cursor: pointer;\n",
              "      display: none;\n",
              "      fill: #1967D2;\n",
              "      height: 32px;\n",
              "      padding: 0 0 0 0;\n",
              "      width: 32px;\n",
              "    }\n",
              "\n",
              "    .colab-df-convert:hover {\n",
              "      background-color: #E2EBFA;\n",
              "      box-shadow: 0px 1px 2px rgba(60, 64, 67, 0.3), 0px 1px 3px 1px rgba(60, 64, 67, 0.15);\n",
              "      fill: #174EA6;\n",
              "    }\n",
              "\n",
              "    [theme=dark] .colab-df-convert {\n",
              "      background-color: #3B4455;\n",
              "      fill: #D2E3FC;\n",
              "    }\n",
              "\n",
              "    [theme=dark] .colab-df-convert:hover {\n",
              "      background-color: #434B5C;\n",
              "      box-shadow: 0px 1px 3px 1px rgba(0, 0, 0, 0.15);\n",
              "      filter: drop-shadow(0px 1px 2px rgba(0, 0, 0, 0.3));\n",
              "      fill: #FFFFFF;\n",
              "    }\n",
              "  </style>\n",
              "\n",
              "      <script>\n",
              "        const buttonEl =\n",
              "          document.querySelector('#df-1219a106-a8af-4eda-8427-369f2b3ac0e6 button.colab-df-convert');\n",
              "        buttonEl.style.display =\n",
              "          google.colab.kernel.accessAllowed ? 'block' : 'none';\n",
              "\n",
              "        async function convertToInteractive(key) {\n",
              "          const element = document.querySelector('#df-1219a106-a8af-4eda-8427-369f2b3ac0e6');\n",
              "          const dataTable =\n",
              "            await google.colab.kernel.invokeFunction('convertToInteractive',\n",
              "                                                     [key], {});\n",
              "          if (!dataTable) return;\n",
              "\n",
              "          const docLinkHtml = 'Like what you see? Visit the ' +\n",
              "            '<a target=\"_blank\" href=https://colab.research.google.com/notebooks/data_table.ipynb>data table notebook</a>'\n",
              "            + ' to learn more about interactive tables.';\n",
              "          element.innerHTML = '';\n",
              "          dataTable['output_type'] = 'display_data';\n",
              "          await google.colab.output.renderOutput(dataTable, element);\n",
              "          const docLink = document.createElement('div');\n",
              "          docLink.innerHTML = docLinkHtml;\n",
              "          element.appendChild(docLink);\n",
              "        }\n",
              "      </script>\n",
              "    </div>\n",
              "  </div>\n",
              "  "
            ]
          },
          "metadata": {},
          "execution_count": 128
        }
      ]
    },
    {
      "cell_type": "markdown",
      "metadata": {
        "deletable": false,
        "editable": false,
        "id": "3GrFoEM1lWDC"
      },
      "source": [
        "#### Question 2b\n",
        "\n",
        "Now let's look at the EVENTTM column which indicates the time for events. Since it contains hour and minute information, let's extract the hour info and create a new column named `Hour` in the `calls` DataFrame. You should save the hour as an `int`.\n",
        "\n",
        "\n",
        "**Hint:** *Your code should only require one line*\n",
        "\n",
        "<!--\n",
        "BEGIN QUESTION\n",
        "name: q2b\n",
        "-->"
      ]
    },
    {
      "cell_type": "code",
      "execution_count": 76,
      "metadata": {
        "collapsed": true,
        "jupyter": {
          "outputs_hidden": true
        },
        "id": "I3hlVdrklWDC",
        "colab": {
          "base_uri": "https://localhost:8080/",
          "height": 641
        },
        "outputId": "29a62555-d39f-4433-b3f8-5c81d9b50ea9"
      },
      "outputs": [
        {
          "output_type": "execute_result",
          "data": {
            "text/plain": [
              "        CASENO                   OFFENSE                 EVENTDT EVENTTM  \\\n",
              "0     18022300               DISTURBANCE  04/18/2018 12:00:00 AM   22:17   \n",
              "1     18026683  THEFT MISD. (UNDER $950)  05/09/2018 12:00:00 AM   21:25   \n",
              "2     18038550  THEFT MISD. (UNDER $950)  05/18/2018 12:00:00 AM   20:00   \n",
              "3     18014810             BURGLARY AUTO  03/13/2018 12:00:00 AM   08:50   \n",
              "4     18018643           ALCOHOL OFFENSE  03/31/2018 12:00:00 AM   13:29   \n",
              "...        ...                       ...                     ...     ...   \n",
              "3783  18045829  THEFT MISD. (UNDER $950)  08/15/2018 12:00:00 AM   08:42   \n",
              "3784  18040137               DISTURBANCE  07/17/2018 12:00:00 AM   10:34   \n",
              "3785  18090816                 VANDALISM  05/16/2018 12:00:00 AM   20:00   \n",
              "3786  18024397       SEXUAL ASSAULT FEL.  04/28/2018 12:00:00 AM   17:00   \n",
              "3787  18021099      ASSAULT/BATTERY FEL.  04/12/2018 12:00:00 AM   21:39   \n",
              "\n",
              "                  CVLEGEND  CVDOW                InDbDate  \\\n",
              "0       DISORDERLY CONDUCT      3  09/06/2018 03:30:12 AM   \n",
              "1                  LARCENY      3  09/06/2018 03:30:13 AM   \n",
              "2                  LARCENY      5  09/06/2018 03:30:09 AM   \n",
              "3       BURGLARY - VEHICLE      2  09/06/2018 03:30:08 AM   \n",
              "4     LIQUOR LAW VIOLATION      6  09/06/2018 03:30:11 AM   \n",
              "...                    ...    ...                     ...   \n",
              "3783               LARCENY      3  09/06/2018 03:30:10 AM   \n",
              "3784    DISORDERLY CONDUCT      2  09/06/2018 03:30:13 AM   \n",
              "3785             VANDALISM      3  09/06/2018 03:30:13 AM   \n",
              "3786             SEX CRIME      6  09/06/2018 03:30:12 AM   \n",
              "3787               ASSAULT      4  09/06/2018 03:30:12 AM   \n",
              "\n",
              "                                         Block_Location  \\\n",
              "0     OREGON STREET &amp; MCGEE AVE\\nBerkeley, CA\\n(...   \n",
              "1     200 UNIVERSITY AVE\\nBerkeley, CA\\n(37.865511, ...   \n",
              "2     2200 MILVIA ST\\nBerkeley, CA\\n(37.868574, -122...   \n",
              "3     1200 SIXTH ST\\nBerkeley, CA\\n(37.881142, -122....   \n",
              "4     CENTER STREET &amp; SHATTUCK AVE\\nBerkeley, CA...   \n",
              "...                                                 ...   \n",
              "3783  2300 TELEGRAPH AVE\\nBerkeley, CA\\n(37.868714, ...   \n",
              "3784  1100 UNIVERSITY AVE\\nBerkeley, CA\\n(37.869067,...   \n",
              "3785                     800 VICENTE RD\\nBerkeley, CA\\n   \n",
              "3786  2700 BANCROFT WAY\\nBerkeley, CA\\n(37.869312, -...   \n",
              "3787  1600 RUSSELL ST\\nBerkeley, CA\\n(37.85525, -122...   \n",
              "\n",
              "                           BLKADDR      City State        Day  Hour  \n",
              "0        OREGON STREET & MCGEE AVE  Berkeley    CA  Wednesday    22  \n",
              "1               200 UNIVERSITY AVE  Berkeley    CA  Wednesday    21  \n",
              "2                   2200 MILVIA ST  Berkeley    CA     Friday    20  \n",
              "3                    1200 SIXTH ST  Berkeley    CA    Tuesday     8  \n",
              "4     CENTER STREET & SHATTUCK AVE  Berkeley    CA   Saturday    13  \n",
              "...                            ...       ...   ...        ...   ...  \n",
              "3783            2300 TELEGRAPH AVE  Berkeley    CA  Wednesday     8  \n",
              "3784           1100 UNIVERSITY AVE  Berkeley    CA    Tuesday    10  \n",
              "3785                800 VICENTE RD  Berkeley    CA  Wednesday    20  \n",
              "3786             2700 BANCROFT WAY  Berkeley    CA   Saturday    17  \n",
              "3787               1600 RUSSELL ST  Berkeley    CA   Thursday    21  \n",
              "\n",
              "[3788 rows x 13 columns]"
            ],
            "text/html": [
              "\n",
              "  <div id=\"df-b07c3acc-bcc0-4771-b650-205ea61e2372\">\n",
              "    <div class=\"colab-df-container\">\n",
              "      <div>\n",
              "<style scoped>\n",
              "    .dataframe tbody tr th:only-of-type {\n",
              "        vertical-align: middle;\n",
              "    }\n",
              "\n",
              "    .dataframe tbody tr th {\n",
              "        vertical-align: top;\n",
              "    }\n",
              "\n",
              "    .dataframe thead th {\n",
              "        text-align: right;\n",
              "    }\n",
              "</style>\n",
              "<table border=\"1\" class=\"dataframe\">\n",
              "  <thead>\n",
              "    <tr style=\"text-align: right;\">\n",
              "      <th></th>\n",
              "      <th>CASENO</th>\n",
              "      <th>OFFENSE</th>\n",
              "      <th>EVENTDT</th>\n",
              "      <th>EVENTTM</th>\n",
              "      <th>CVLEGEND</th>\n",
              "      <th>CVDOW</th>\n",
              "      <th>InDbDate</th>\n",
              "      <th>Block_Location</th>\n",
              "      <th>BLKADDR</th>\n",
              "      <th>City</th>\n",
              "      <th>State</th>\n",
              "      <th>Day</th>\n",
              "      <th>Hour</th>\n",
              "    </tr>\n",
              "  </thead>\n",
              "  <tbody>\n",
              "    <tr>\n",
              "      <th>0</th>\n",
              "      <td>18022300</td>\n",
              "      <td>DISTURBANCE</td>\n",
              "      <td>04/18/2018 12:00:00 AM</td>\n",
              "      <td>22:17</td>\n",
              "      <td>DISORDERLY CONDUCT</td>\n",
              "      <td>3</td>\n",
              "      <td>09/06/2018 03:30:12 AM</td>\n",
              "      <td>OREGON STREET &amp;amp; MCGEE AVE\\nBerkeley, CA\\n(...</td>\n",
              "      <td>OREGON STREET &amp; MCGEE AVE</td>\n",
              "      <td>Berkeley</td>\n",
              "      <td>CA</td>\n",
              "      <td>Wednesday</td>\n",
              "      <td>22</td>\n",
              "    </tr>\n",
              "    <tr>\n",
              "      <th>1</th>\n",
              "      <td>18026683</td>\n",
              "      <td>THEFT MISD. (UNDER $950)</td>\n",
              "      <td>05/09/2018 12:00:00 AM</td>\n",
              "      <td>21:25</td>\n",
              "      <td>LARCENY</td>\n",
              "      <td>3</td>\n",
              "      <td>09/06/2018 03:30:13 AM</td>\n",
              "      <td>200 UNIVERSITY AVE\\nBerkeley, CA\\n(37.865511, ...</td>\n",
              "      <td>200 UNIVERSITY AVE</td>\n",
              "      <td>Berkeley</td>\n",
              "      <td>CA</td>\n",
              "      <td>Wednesday</td>\n",
              "      <td>21</td>\n",
              "    </tr>\n",
              "    <tr>\n",
              "      <th>2</th>\n",
              "      <td>18038550</td>\n",
              "      <td>THEFT MISD. (UNDER $950)</td>\n",
              "      <td>05/18/2018 12:00:00 AM</td>\n",
              "      <td>20:00</td>\n",
              "      <td>LARCENY</td>\n",
              "      <td>5</td>\n",
              "      <td>09/06/2018 03:30:09 AM</td>\n",
              "      <td>2200 MILVIA ST\\nBerkeley, CA\\n(37.868574, -122...</td>\n",
              "      <td>2200 MILVIA ST</td>\n",
              "      <td>Berkeley</td>\n",
              "      <td>CA</td>\n",
              "      <td>Friday</td>\n",
              "      <td>20</td>\n",
              "    </tr>\n",
              "    <tr>\n",
              "      <th>3</th>\n",
              "      <td>18014810</td>\n",
              "      <td>BURGLARY AUTO</td>\n",
              "      <td>03/13/2018 12:00:00 AM</td>\n",
              "      <td>08:50</td>\n",
              "      <td>BURGLARY - VEHICLE</td>\n",
              "      <td>2</td>\n",
              "      <td>09/06/2018 03:30:08 AM</td>\n",
              "      <td>1200 SIXTH ST\\nBerkeley, CA\\n(37.881142, -122....</td>\n",
              "      <td>1200 SIXTH ST</td>\n",
              "      <td>Berkeley</td>\n",
              "      <td>CA</td>\n",
              "      <td>Tuesday</td>\n",
              "      <td>8</td>\n",
              "    </tr>\n",
              "    <tr>\n",
              "      <th>4</th>\n",
              "      <td>18018643</td>\n",
              "      <td>ALCOHOL OFFENSE</td>\n",
              "      <td>03/31/2018 12:00:00 AM</td>\n",
              "      <td>13:29</td>\n",
              "      <td>LIQUOR LAW VIOLATION</td>\n",
              "      <td>6</td>\n",
              "      <td>09/06/2018 03:30:11 AM</td>\n",
              "      <td>CENTER STREET &amp;amp; SHATTUCK AVE\\nBerkeley, CA...</td>\n",
              "      <td>CENTER STREET &amp; SHATTUCK AVE</td>\n",
              "      <td>Berkeley</td>\n",
              "      <td>CA</td>\n",
              "      <td>Saturday</td>\n",
              "      <td>13</td>\n",
              "    </tr>\n",
              "    <tr>\n",
              "      <th>...</th>\n",
              "      <td>...</td>\n",
              "      <td>...</td>\n",
              "      <td>...</td>\n",
              "      <td>...</td>\n",
              "      <td>...</td>\n",
              "      <td>...</td>\n",
              "      <td>...</td>\n",
              "      <td>...</td>\n",
              "      <td>...</td>\n",
              "      <td>...</td>\n",
              "      <td>...</td>\n",
              "      <td>...</td>\n",
              "      <td>...</td>\n",
              "    </tr>\n",
              "    <tr>\n",
              "      <th>3783</th>\n",
              "      <td>18045829</td>\n",
              "      <td>THEFT MISD. (UNDER $950)</td>\n",
              "      <td>08/15/2018 12:00:00 AM</td>\n",
              "      <td>08:42</td>\n",
              "      <td>LARCENY</td>\n",
              "      <td>3</td>\n",
              "      <td>09/06/2018 03:30:10 AM</td>\n",
              "      <td>2300 TELEGRAPH AVE\\nBerkeley, CA\\n(37.868714, ...</td>\n",
              "      <td>2300 TELEGRAPH AVE</td>\n",
              "      <td>Berkeley</td>\n",
              "      <td>CA</td>\n",
              "      <td>Wednesday</td>\n",
              "      <td>8</td>\n",
              "    </tr>\n",
              "    <tr>\n",
              "      <th>3784</th>\n",
              "      <td>18040137</td>\n",
              "      <td>DISTURBANCE</td>\n",
              "      <td>07/17/2018 12:00:00 AM</td>\n",
              "      <td>10:34</td>\n",
              "      <td>DISORDERLY CONDUCT</td>\n",
              "      <td>2</td>\n",
              "      <td>09/06/2018 03:30:13 AM</td>\n",
              "      <td>1100 UNIVERSITY AVE\\nBerkeley, CA\\n(37.869067,...</td>\n",
              "      <td>1100 UNIVERSITY AVE</td>\n",
              "      <td>Berkeley</td>\n",
              "      <td>CA</td>\n",
              "      <td>Tuesday</td>\n",
              "      <td>10</td>\n",
              "    </tr>\n",
              "    <tr>\n",
              "      <th>3785</th>\n",
              "      <td>18090816</td>\n",
              "      <td>VANDALISM</td>\n",
              "      <td>05/16/2018 12:00:00 AM</td>\n",
              "      <td>20:00</td>\n",
              "      <td>VANDALISM</td>\n",
              "      <td>3</td>\n",
              "      <td>09/06/2018 03:30:13 AM</td>\n",
              "      <td>800 VICENTE RD\\nBerkeley, CA\\n</td>\n",
              "      <td>800 VICENTE RD</td>\n",
              "      <td>Berkeley</td>\n",
              "      <td>CA</td>\n",
              "      <td>Wednesday</td>\n",
              "      <td>20</td>\n",
              "    </tr>\n",
              "    <tr>\n",
              "      <th>3786</th>\n",
              "      <td>18024397</td>\n",
              "      <td>SEXUAL ASSAULT FEL.</td>\n",
              "      <td>04/28/2018 12:00:00 AM</td>\n",
              "      <td>17:00</td>\n",
              "      <td>SEX CRIME</td>\n",
              "      <td>6</td>\n",
              "      <td>09/06/2018 03:30:12 AM</td>\n",
              "      <td>2700 BANCROFT WAY\\nBerkeley, CA\\n(37.869312, -...</td>\n",
              "      <td>2700 BANCROFT WAY</td>\n",
              "      <td>Berkeley</td>\n",
              "      <td>CA</td>\n",
              "      <td>Saturday</td>\n",
              "      <td>17</td>\n",
              "    </tr>\n",
              "    <tr>\n",
              "      <th>3787</th>\n",
              "      <td>18021099</td>\n",
              "      <td>ASSAULT/BATTERY FEL.</td>\n",
              "      <td>04/12/2018 12:00:00 AM</td>\n",
              "      <td>21:39</td>\n",
              "      <td>ASSAULT</td>\n",
              "      <td>4</td>\n",
              "      <td>09/06/2018 03:30:12 AM</td>\n",
              "      <td>1600 RUSSELL ST\\nBerkeley, CA\\n(37.85525, -122...</td>\n",
              "      <td>1600 RUSSELL ST</td>\n",
              "      <td>Berkeley</td>\n",
              "      <td>CA</td>\n",
              "      <td>Thursday</td>\n",
              "      <td>21</td>\n",
              "    </tr>\n",
              "  </tbody>\n",
              "</table>\n",
              "<p>3788 rows × 13 columns</p>\n",
              "</div>\n",
              "      <button class=\"colab-df-convert\" onclick=\"convertToInteractive('df-b07c3acc-bcc0-4771-b650-205ea61e2372')\"\n",
              "              title=\"Convert this dataframe to an interactive table.\"\n",
              "              style=\"display:none;\">\n",
              "        \n",
              "  <svg xmlns=\"http://www.w3.org/2000/svg\" height=\"24px\"viewBox=\"0 0 24 24\"\n",
              "       width=\"24px\">\n",
              "    <path d=\"M0 0h24v24H0V0z\" fill=\"none\"/>\n",
              "    <path d=\"M18.56 5.44l.94 2.06.94-2.06 2.06-.94-2.06-.94-.94-2.06-.94 2.06-2.06.94zm-11 1L8.5 8.5l.94-2.06 2.06-.94-2.06-.94L8.5 2.5l-.94 2.06-2.06.94zm10 10l.94 2.06.94-2.06 2.06-.94-2.06-.94-.94-2.06-.94 2.06-2.06.94z\"/><path d=\"M17.41 7.96l-1.37-1.37c-.4-.4-.92-.59-1.43-.59-.52 0-1.04.2-1.43.59L10.3 9.45l-7.72 7.72c-.78.78-.78 2.05 0 2.83L4 21.41c.39.39.9.59 1.41.59.51 0 1.02-.2 1.41-.59l7.78-7.78 2.81-2.81c.8-.78.8-2.07 0-2.86zM5.41 20L4 18.59l7.72-7.72 1.47 1.35L5.41 20z\"/>\n",
              "  </svg>\n",
              "      </button>\n",
              "      \n",
              "  <style>\n",
              "    .colab-df-container {\n",
              "      display:flex;\n",
              "      flex-wrap:wrap;\n",
              "      gap: 12px;\n",
              "    }\n",
              "\n",
              "    .colab-df-convert {\n",
              "      background-color: #E8F0FE;\n",
              "      border: none;\n",
              "      border-radius: 50%;\n",
              "      cursor: pointer;\n",
              "      display: none;\n",
              "      fill: #1967D2;\n",
              "      height: 32px;\n",
              "      padding: 0 0 0 0;\n",
              "      width: 32px;\n",
              "    }\n",
              "\n",
              "    .colab-df-convert:hover {\n",
              "      background-color: #E2EBFA;\n",
              "      box-shadow: 0px 1px 2px rgba(60, 64, 67, 0.3), 0px 1px 3px 1px rgba(60, 64, 67, 0.15);\n",
              "      fill: #174EA6;\n",
              "    }\n",
              "\n",
              "    [theme=dark] .colab-df-convert {\n",
              "      background-color: #3B4455;\n",
              "      fill: #D2E3FC;\n",
              "    }\n",
              "\n",
              "    [theme=dark] .colab-df-convert:hover {\n",
              "      background-color: #434B5C;\n",
              "      box-shadow: 0px 1px 3px 1px rgba(0, 0, 0, 0.15);\n",
              "      filter: drop-shadow(0px 1px 2px rgba(0, 0, 0, 0.3));\n",
              "      fill: #FFFFFF;\n",
              "    }\n",
              "  </style>\n",
              "\n",
              "      <script>\n",
              "        const buttonEl =\n",
              "          document.querySelector('#df-b07c3acc-bcc0-4771-b650-205ea61e2372 button.colab-df-convert');\n",
              "        buttonEl.style.display =\n",
              "          google.colab.kernel.accessAllowed ? 'block' : 'none';\n",
              "\n",
              "        async function convertToInteractive(key) {\n",
              "          const element = document.querySelector('#df-b07c3acc-bcc0-4771-b650-205ea61e2372');\n",
              "          const dataTable =\n",
              "            await google.colab.kernel.invokeFunction('convertToInteractive',\n",
              "                                                     [key], {});\n",
              "          if (!dataTable) return;\n",
              "\n",
              "          const docLinkHtml = 'Like what you see? Visit the ' +\n",
              "            '<a target=\"_blank\" href=https://colab.research.google.com/notebooks/data_table.ipynb>data table notebook</a>'\n",
              "            + ' to learn more about interactive tables.';\n",
              "          element.innerHTML = '';\n",
              "          dataTable['output_type'] = 'display_data';\n",
              "          await google.colab.output.renderOutput(dataTable, element);\n",
              "          const docLink = document.createElement('div');\n",
              "          docLink.innerHTML = docLinkHtml;\n",
              "          element.appendChild(docLink);\n",
              "        }\n",
              "      </script>\n",
              "    </div>\n",
              "  </div>\n",
              "  "
            ]
          },
          "metadata": {},
          "execution_count": 76
        }
      ],
      "source": [
        "calls[\"Hour\"] = calls[\"EVENTTM\"].apply(lambda x: int(x[0:2]))\n",
        "calls"
      ]
    },
    {
      "cell_type": "markdown",
      "metadata": {
        "deletable": false,
        "editable": false,
        "id": "H8VK7uSElWDD"
      },
      "source": [
        "#### Question 2c\n",
        "\n",
        "\n",
        "Using `pandas`, construct a line plot with the count of the number of calls (entries in the table) for each hour of the day  **ordered by the time** (eg. `12:00 AM`, `1:00 AM`, ...). Please use the provided variable `hours` in your answer. Be sure that your axes are labeled and that your plot is titled. \n",
        "\n",
        "<!--\n",
        "BEGIN QUESTION\n",
        "name: q2c\n",
        "\n",
        "-->"
      ]
    },
    {
      "cell_type": "code",
      "source": [
        "hours = list(range(24))\n",
        "\n",
        "plot = calls.groupby([\"Hour\"]).size().plot()\n",
        "plot.set_ylabel(\"Number of Calls\")\n",
        "plot.set_xlabel(\"Hour\")\n",
        "plot.set_title(\"Number of Calls By Hour\");\n",
        "plot.set_xticks(hours);"
      ],
      "metadata": {
        "colab": {
          "base_uri": "https://localhost:8080/",
          "height": 567
        },
        "id": "ahjifyIirnj-",
        "outputId": "2f59de57-4ef3-4db4-ffe2-0dcd58c6e49b"
      },
      "execution_count": 139,
      "outputs": [
        {
          "output_type": "display_data",
          "data": {
            "text/plain": [
              "<Figure size 864x648 with 1 Axes>"
            ],
            "image/png": "[encoded data removed]"
          },
          "metadata": {
            "needs_background": "light"
          }
        }
      ]
    },
    {
      "cell_type": "markdown",
      "metadata": {
        "id": "r4jk6PD9lWDD"
      },
      "source": [
        "##### Why do you think this happens? Are there more calls in the day or night? What are the most and least popular times? (Answer Below)"
      ]
    },
    {
      "cell_type": "markdown",
      "metadata": {
        "id": "I268VaSylWDD"
      },
      "source": [
        "There are more calls in the late afternoon, and to an extent at around midnight.\n",
        "Presumably people are busy at work or sleeping during other periods of time."
      ]
    },
    {
      "cell_type": "markdown",
      "metadata": {
        "deletable": false,
        "editable": false,
        "nbgrader": {
          "grade": false,
          "grade_id": "q4",
          "locked": true,
          "schema_version": 2,
          "solution": false
        },
        "id": "RmieDe8zlWDD"
      },
      "source": [
        "### Question 3\n",
        "\n",
        "We can break down into some particular types of events to see their distribution. For example, let's make a bar plot for the CVLEGEND \"ROBBERY\". \n",
        "\n",
        "#### Question 3a\n",
        "\n",
        "Use `pandas` to create a vertical bar plot of the number of total robberies reported on each day of the week, again ordered by the days of the week starting with Sunday. Please use the provided variable `filtered` in your answer. Be sure that your axes are labeled and that your plot is titled.\n",
        "\n",
        "**Hint:** *This should be very similar to Question 2c*\n",
        "\n",
        "<!--\n",
        "BEGIN QUESTION\n",
        "name: q3a\n",
        "-->"
      ]
    },
    {
      "cell_type": "code",
      "source": [
        "filtered = calls[calls[\"CVLEGEND\"] == \"ROBBERY\"]\n",
        "grouped = filtered.groupby([\"Day\"]).size().reset_index().set_index(\"Day\") \n",
        "grouped"
      ],
      "metadata": {
        "colab": {
          "base_uri": "https://localhost:8080/",
          "height": 300
        },
        "id": "POK9fT0btc5J",
        "outputId": "0329eaf1-c055-4d7d-a440-c31349fd6ca2"
      },
      "execution_count": 141,
      "outputs": [
        {
          "output_type": "execute_result",
          "data": {
            "text/plain": [
              "            0\n",
              "Day          \n",
              "Friday     24\n",
              "Monday     32\n",
              "Saturday   21\n",
              "Sunday     20\n",
              "Thursday   36\n",
              "Tuesday    21\n",
              "Wednesday  14"
            ],
            "text/html": [
              "\n",
              "  <div id=\"df-4f902b94-1b79-4a58-adae-92eee3c18d4d\">\n",
              "    <div class=\"colab-df-container\">\n",
              "      <div>\n",
              "<style scoped>\n",
              "    .dataframe tbody tr th:only-of-type {\n",
              "        vertical-align: middle;\n",
              "    }\n",
              "\n",
              "    .dataframe tbody tr th {\n",
              "        vertical-align: top;\n",
              "    }\n",
              "\n",
              "    .dataframe thead th {\n",
              "        text-align: right;\n",
              "    }\n",
              "</style>\n",
              "<table border=\"1\" class=\"dataframe\">\n",
              "  <thead>\n",
              "    <tr style=\"text-align: right;\">\n",
              "      <th></th>\n",
              "      <th>0</th>\n",
              "    </tr>\n",
              "    <tr>\n",
              "      <th>Day</th>\n",
              "      <th></th>\n",
              "    </tr>\n",
              "  </thead>\n",
              "  <tbody>\n",
              "    <tr>\n",
              "      <th>Friday</th>\n",
              "      <td>24</td>\n",
              "    </tr>\n",
              "    <tr>\n",
              "      <th>Monday</th>\n",
              "      <td>32</td>\n",
              "    </tr>\n",
              "    <tr>\n",
              "      <th>Saturday</th>\n",
              "      <td>21</td>\n",
              "    </tr>\n",
              "    <tr>\n",
              "      <th>Sunday</th>\n",
              "      <td>20</td>\n",
              "    </tr>\n",
              "    <tr>\n",
              "      <th>Thursday</th>\n",
              "      <td>36</td>\n",
              "    </tr>\n",
              "    <tr>\n",
              "      <th>Tuesday</th>\n",
              "      <td>21</td>\n",
              "    </tr>\n",
              "    <tr>\n",
              "      <th>Wednesday</th>\n",
              "      <td>14</td>\n",
              "    </tr>\n",
              "  </tbody>\n",
              "</table>\n",
              "</div>\n",
              "      <button class=\"colab-df-convert\" onclick=\"convertToInteractive('df-4f902b94-1b79-4a58-adae-92eee3c18d4d')\"\n",
              "              title=\"Convert this dataframe to an interactive table.\"\n",
              "              style=\"display:none;\">\n",
              "        \n",
              "  <svg xmlns=\"http://www.w3.org/2000/svg\" height=\"24px\"viewBox=\"0 0 24 24\"\n",
              "       width=\"24px\">\n",
              "    <path d=\"M0 0h24v24H0V0z\" fill=\"none\"/>\n",
              "    <path d=\"M18.56 5.44l.94 2.06.94-2.06 2.06-.94-2.06-.94-.94-2.06-.94 2.06-2.06.94zm-11 1L8.5 8.5l.94-2.06 2.06-.94-2.06-.94L8.5 2.5l-.94 2.06-2.06.94zm10 10l.94 2.06.94-2.06 2.06-.94-2.06-.94-.94-2.06-.94 2.06-2.06.94z\"/><path d=\"M17.41 7.96l-1.37-1.37c-.4-.4-.92-.59-1.43-.59-.52 0-1.04.2-1.43.59L10.3 9.45l-7.72 7.72c-.78.78-.78 2.05 0 2.83L4 21.41c.39.39.9.59 1.41.59.51 0 1.02-.2 1.41-.59l7.78-7.78 2.81-2.81c.8-.78.8-2.07 0-2.86zM5.41 20L4 18.59l7.72-7.72 1.47 1.35L5.41 20z\"/>\n",
              "  </svg>\n",
              "      </button>\n",
              "      \n",
              "  <style>\n",
              "    .colab-df-container {\n",
              "      display:flex;\n",
              "      flex-wrap:wrap;\n",
              "      gap: 12px;\n",
              "    }\n",
              "\n",
              "    .colab-df-convert {\n",
              "      background-color: #E8F0FE;\n",
              "      border: none;\n",
              "      border-radius: 50%;\n",
              "      cursor: pointer;\n",
              "      display: none;\n",
              "      fill: #1967D2;\n",
              "      height: 32px;\n",
              "      padding: 0 0 0 0;\n",
              "      width: 32px;\n",
              "    }\n",
              "\n",
              "    .colab-df-convert:hover {\n",
              "      background-color: #E2EBFA;\n",
              "      box-shadow: 0px 1px 2px rgba(60, 64, 67, 0.3), 0px 1px 3px 1px rgba(60, 64, 67, 0.15);\n",
              "      fill: #174EA6;\n",
              "    }\n",
              "\n",
              "    [theme=dark] .colab-df-convert {\n",
              "      background-color: #3B4455;\n",
              "      fill: #D2E3FC;\n",
              "    }\n",
              "\n",
              "    [theme=dark] .colab-df-convert:hover {\n",
              "      background-color: #434B5C;\n",
              "      box-shadow: 0px 1px 3px 1px rgba(0, 0, 0, 0.15);\n",
              "      filter: drop-shadow(0px 1px 2px rgba(0, 0, 0, 0.3));\n",
              "      fill: #FFFFFF;\n",
              "    }\n",
              "  </style>\n",
              "\n",
              "      <script>\n",
              "        const buttonEl =\n",
              "          document.querySelector('#df-4f902b94-1b79-4a58-adae-92eee3c18d4d button.colab-df-convert');\n",
              "        buttonEl.style.display =\n",
              "          google.colab.kernel.accessAllowed ? 'block' : 'none';\n",
              "\n",
              "        async function convertToInteractive(key) {\n",
              "          const element = document.querySelector('#df-4f902b94-1b79-4a58-adae-92eee3c18d4d');\n",
              "          const dataTable =\n",
              "            await google.colab.kernel.invokeFunction('convertToInteractive',\n",
              "                                                     [key], {});\n",
              "          if (!dataTable) return;\n",
              "\n",
              "          const docLinkHtml = 'Like what you see? Visit the ' +\n",
              "            '<a target=\"_blank\" href=https://colab.research.google.com/notebooks/data_table.ipynb>data table notebook</a>'\n",
              "            + ' to learn more about interactive tables.';\n",
              "          element.innerHTML = '';\n",
              "          dataTable['output_type'] = 'display_data';\n",
              "          await google.colab.output.renderOutput(dataTable, element);\n",
              "          const docLink = document.createElement('div');\n",
              "          docLink.innerHTML = docLinkHtml;\n",
              "          element.appendChild(docLink);\n",
              "        }\n",
              "      </script>\n",
              "    </div>\n",
              "  </div>\n",
              "  "
            ]
          },
          "metadata": {},
          "execution_count": 141
        }
      ]
    },
    {
      "cell_type": "code",
      "execution_count": 97,
      "metadata": {
        "jupyter": {
          "outputs_hidden": false
        },
        "nbgrader": {
          "grade": false,
          "grade_id": "q4a-answer",
          "locked": false,
          "schema_version": 2,
          "solution": true
        },
        "id": "qkwYEi5YlWDD",
        "colab": {
          "base_uri": "https://localhost:8080/",
          "height": 615
        },
        "outputId": "518d4237-3dea-411b-afa3-8d0b385f1b7c"
      },
      "outputs": [
        {
          "output_type": "display_data",
          "data": {
            "text/plain": [
              "<Figure size 864x648 with 1 Axes>"
            ],
            "image/png": "[encoded data removed]"
          },
          "metadata": {
            "needs_background": "light"
          }
        }
      ],
      "source": [
        "filtered = calls[calls[\"CVLEGEND\"] == \"ROBBERY\"]\n",
        "\n",
        "grouped = filtered.groupby([\"Day\"]).size().reset_index().set_index(\"Day\") \n",
        "\n",
        "grouped = grouped.reindex([\"Sunday\", \"Monday\", \"Tuesday\", \"Wednesday\", \"Thursday\", \"Friday\", \"Sunday\"])\n",
        "\n",
        "ax = grouped.plot(kind='bar')\n",
        "ax.set_ylabel(\"Number of Calls\")\n",
        "ax.set_xlabel(\"Day\")\n",
        "ax.set_title(\"Number of Calls By Hour\");\n",
        "ax2 = plt.gca()\n",
        "\n",
        "# Leave this for grading purposes\n",
        "ax_4a = plt.gca()"
      ]
    },
    {
      "cell_type": "markdown",
      "metadata": {
        "nbgrader": {
          "grade": false,
          "grade_id": "q4b",
          "locked": true,
          "schema_version": 2,
          "solution": false
        },
        "id": "uXj_lr9ZlWDE"
      },
      "source": [
        "#### Question 3b\n",
        "\n",
        "Do you observe anything interesting about the distribution of ROBBERY calls over a week? Which day is the peak for \"ROBBERY\"? Type a 1-2 sentence answer below."
      ]
    },
    {
      "cell_type": "markdown",
      "metadata": {
        "nbgrader": {
          "grade": true,
          "grade_id": "q4b-answer",
          "locked": false,
          "points": 1,
          "schema_version": 2,
          "solution": true
        },
        "id": "whOmUWOGlWDE"
      },
      "source": [
        "Peak days for robbery are monday and thursday. Least robberies occur on Wednesday."
      ]
    },
    {
      "cell_type": "markdown",
      "metadata": {
        "deletable": false,
        "editable": false,
        "nbgrader": {
          "grade": false,
          "grade_id": "q7",
          "locked": true,
          "schema_version": 2,
          "solution": false
        },
        "id": "1hQhfJmilWDE"
      },
      "source": [
        "### Question 4\n",
        "\n",
        "In the cell below, generate a boxplot which examines the hour of day of each crime broken down by the `CVLEGEND` value.  To construct this plot use the [DataFrame.boxplot](https://pandas.pydata.org/pandas-docs/stable/reference/api/pandas.DataFrame.boxplot.html) documentation. You may want to rotate the `CVLEGEND` labels for better readability.\n",
        "\n",
        "##### Looking at your plot, which crime type appears to have the largest interquartile range? Put your results into `answer4` as a string.\n",
        "\n",
        "\n",
        "<!--\n",
        "BEGIN QUESTION\n",
        "name: q4\n",
        "-->"
      ]
    },
    {
      "cell_type": "code",
      "source": [
        "#calls.groupby([\"CVLEGEND\"])[\"Hour\"].mean()\n",
        "boxplot = calls.groupby([\"CVLEGEND\"]).boxplot(column=[\"Hour\"])"
      ],
      "metadata": {
        "colab": {
          "base_uri": "https://localhost:8080/",
          "height": 550
        },
        "id": "tR82IZw65K-G",
        "outputId": "164f675e-934e-49e2-aebf-9c446a980641"
      },
      "execution_count": 165,
      "outputs": [
        {
          "output_type": "display_data",
          "data": {
            "text/plain": [
              "<Figure size 864x648 with 25 Axes>"
            ],
            "image/png": "[encoded data removed]"
          },
          "metadata": {
            "needs_background": "light"
          }
        }
      ]
    },
    {
      "cell_type": "code",
      "execution_count": 79,
      "metadata": {
        "jupyter": {
          "outputs_hidden": false
        },
        "nbgrader": {
          "grade": false,
          "grade_id": "q7-pandas-boxplot",
          "locked": true,
          "schema_version": 2,
          "solution": false
        },
        "tags": [
          "student"
        ],
        "id": "cGlstzIBlWDE"
      },
      "outputs": [],
      "source": [
        "answer4 = \"SEX CRIME\""
      ]
    },
    {
      "cell_type": "markdown",
      "metadata": {
        "id": "Avt2SSzHlWDE"
      },
      "source": [
        "**Important**: To make sure the test cases run correctly, click `Kernel>Restart & Run All` and make sure all of the test cases are still passing. Doing so will submit your code for you. \n",
        "\n",
        "If your test cases are no longer passing after restarting, it's likely because you're missing a variable, or the modifications that you'd previously made to your DataFrame are no longer taking place (perhaps because you deleted a cell). \n",
        "\n",
        "You may submit this assignment as many times as you'd like before the deadline.\n",
        "\n",
        "**You must restart and run all cells before submitting. Otherwise, you may pass test cases locally, but not on our servers. We will not entertain regrade requests of the form, “my code passed all of my local test cases, but failed the autograder”.**"
      ]
    },
    {
      "cell_type": "markdown",
      "metadata": {
        "nbgrader": {
          "grade": false,
          "grade_id": "finish",
          "locked": true,
          "schema_version": 2,
          "solution": false
        },
        "id": "bfRLGJzOlWDF"
      },
      "source": [
        "## Congratulations\n",
        "\n",
        "Congrats! You are finished with this assignment."
      ]
    },
    {
      "cell_type": "markdown",
      "metadata": {
        "deletable": false,
        "editable": false,
        "id": "zCUKE38ZlWDF"
      },
      "source": [
        "---\n",
        "\n",
        "To double-check your work, the cell below will rerun all of the autograder tests."
      ]
    },
    {
      "cell_type": "markdown",
      "metadata": {
        "deletable": false,
        "editable": false,
        "id": "A3uR0CYxlWDF"
      },
      "source": [
        "## Submission\n",
        "\n",
        "Make sure you have run all cells in your notebook in order before running the cell below, so that all images/graphs appear in the output. The cell below will generate a zip file for you to submit. **Please save before exporting!**"
      ]
    },
    {
      "cell_type": "markdown",
      "metadata": {
        "id": "XTP7P0gZlWDF"
      },
      "source": [
        " "
      ]
    }
  ],
  "metadata": {
    "celltoolbar": "Create Assignment",
    "kernelspec": {
      "display_name": "Python 3 (ipykernel)",
      "language": "python",
      "name": "python3"
    },
    "language_info": {
      "codemirror_mode": {
        "name": "ipython",
        "version": 3
      },
      "file_extension": ".py",
      "mimetype": "text/x-python",
      "name": "python",
      "nbconvert_exporter": "python",
      "pygments_lexer": "ipython3",
      "version": "3.9.7"
    },
    "colab": {
      "name": "Copy of lab03.ipynb",
      "provenance": [],
      "collapsed_sections": []
    }
  },
  "nbformat": 4,
  "nbformat_minor": 0
}